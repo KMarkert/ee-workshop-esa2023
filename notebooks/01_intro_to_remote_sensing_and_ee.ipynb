{
 "cells": [
  {
   "cell_type": "markdown",
   "metadata": {
    "id": "Rz6dgVEz9QnB"
   },
   "source": [
    "# Lab 1: Introduction to Remote Sensing and Google Earth Engine\n",
    "\n",
    "        \n",
    "<table align=\"left\">\n",
    " <td>\n",
    "   <a href=https://colab.research.google.com/github/KMarkert/ee-workshop-esa2023/main/notebooks/01_intro_to_remote_sensing_and_ee.ipynb>\n",
    "       <img src=https://cloud.google.com/ml-engine/images/colab-logo-32px.png alt=\"Colab logo\">\n",
    "     Run in Colab\n",
    "   </a>\n",
    " </td>\n",
    " <td>\n",
    "   <a href=https://console.cloud.google.com/vertex-ai/workbench/deploy-notebook?download_url=https://raw.githubusercontent.com/KMarkert/ee-workshop-esa2023/main/notebooks/01_intro_to_remote_sensing_and_ee.ipynb>\n",
    "       <img src=https://lh3.googleusercontent.com/UiNooY4LUgW_oTvpsNhPpQzsstV5W8F7rYgxgGBD85cWJoLmrOzhVs_ksK_vgx40SHs7jCqkTkCk=e14-rj-sc0xffffff-h130-w32 alt=\\\"Vertex AI logo\\\">\n",
    "     Open in Vertex AI Workbench\n",
    "   </a>\n",
    " </td>\n",
    "</table>\n",
    "<br/><br/><br/>"
   ]
  },
  {
   "cell_type": "markdown",
   "metadata": {
    "id": "WPiUs52G9Vyv"
   },
   "source": [
    "**Purpose:** The purpose of this lab is to enable you to search, find and visualize remotely sensed imagery in Google Earth Engine.  At completion, you should be able to load imagery, extract image property information, visualize data and work with image collections.\n",
    "\n",
    "\n",
    "**Prerequisites:** If you are new to Python programming, go through [this guide](https://docs.python.org/3/tutorial/index.html).  Review the [Earth Engine documentation](https://developers.google.com/earth-engine/guides) and the [Python Guide](https://developers.google.com/earth-engine/guides/python_install).\n"
   ]
  },
  {
   "cell_type": "markdown",
   "metadata": {
    "id": "52LpHRIKCKaO"
   },
   "source": [
    "A couple of links that are helpful:\n",
    "\n",
    "\n",
    "1.   [Earth Engine Documentation](https://developers.google.com/earth-engine)\n",
    "2.   [Earth Engine API Reference](https://developers.google.com/earth-engine/apidocs)\n",
    "3.   [Earth Engine Data Catalog](https://developers.google.com/earth-engine/datasets)\n",
    "4.   [Earth Engine Best Practices](https://developers.google.com/earth-engine/guides/best_practices)\n",
    "\n"
   ]
  },
  {
   "cell_type": "code",
   "execution_count": 14,
   "metadata": {
    "id": "lQvbTNcN_j00",
    "tags": []
   },
   "outputs": [],
   "source": [
    "# import ee api and geemap package\n",
    "import ee\n",
    "import geemap\n",
    "from geemap import colormaps as cmaps\n",
    "from IPython.display import JSON"
   ]
  },
  {
   "cell_type": "code",
   "execution_count": 2,
   "metadata": {
    "id": "AdHCmzQi_zuD",
    "tags": []
   },
   "outputs": [],
   "source": [
    "# try to initalize an ee session\n",
    "# if not authenticated then run auth workflow and initialize\n",
    "try:\n",
    "    ee.Initialize()\n",
    "except:\n",
    "    ee.Authenticate()\n",
    "    ee.Initialize()"
   ]
  },
  {
   "cell_type": "markdown",
   "metadata": {
    "id": "tpHID8YmBY0x"
   },
   "source": [
    "## Hello, Earth Engine"
   ]
  },
  {
   "cell_type": "markdown",
   "metadata": {
    "id": "nF0wZQXZDmI2"
   },
   "source": [
    "### Client vs Server side ops\n",
    "\n",
    "It is important to distinguish Earth Engine objects from other Python objects or that might be in your code. You can manipulate objects on the server by manipulating client-side “proxy” objects in your script. You can recognize a proxy object as anything starting with `ee`. These Earth Engine proxy objects do not contain any actual data and are just handles for objects on the server.\n",
    "\n",
    "[Client vs Server docs](https://developers.google.com/earth-engine/guides/client_server)"
   ]
  },
  {
   "cell_type": "code",
   "execution_count": 3,
   "metadata": {
    "id": "7rESD1agEHQG",
    "tags": []
   },
   "outputs": [
    {
     "data": {
      "text/plain": [
       "str"
      ]
     },
     "execution_count": 3,
     "metadata": {},
     "output_type": "execute_result"
    }
   ],
   "source": [
    "client_string = \"Hello world\"\n",
    "type(client_string)"
   ]
  },
  {
   "cell_type": "code",
   "execution_count": 4,
   "metadata": {
    "id": "D7zs1yYuBa-x",
    "tags": []
   },
   "outputs": [
    {
     "data": {
      "text/plain": [
       "ee.ee_string.String"
      ]
     },
     "execution_count": 4,
     "metadata": {},
     "output_type": "execute_result"
    }
   ],
   "source": [
    "server_string = ee.String(\"Hello world\")\n",
    "type(server_string)"
   ]
  },
  {
   "cell_type": "code",
   "execution_count": 5,
   "metadata": {
    "id": "47NeyDBNCCY7",
    "tags": []
   },
   "outputs": [
    {
     "name": "stdout",
     "output_type": "stream",
     "text": [
      "Client side string:\n",
      "Hello world\n",
      "\n",
      "Server side string:\n",
      "ee.String({\n",
      "  \"constantValue\": \"Hello world\"\n",
      "})\n",
      "\n"
     ]
    }
   ],
   "source": [
    "print(f\"Client side string:\\n{client_string}\\n\")\n",
    "print(f\"Server side string:\\n{server_string}\\n\")"
   ]
  },
  {
   "cell_type": "markdown",
   "metadata": {
    "id": "wsJ6BIlbEvm2"
   },
   "source": [
    "Remember, Earth Engine proxy objects do not contain any actual data. Therefore, to get the results from Earth Engine, one would need to use the method `.getInfo()`."
   ]
  },
  {
   "cell_type": "code",
   "execution_count": 6,
   "metadata": {
    "id": "Ig6TqcRnDP9V",
    "tags": []
   },
   "outputs": [
    {
     "name": "stdout",
     "output_type": "stream",
     "text": [
      "Server side string:\n",
      "Hello world\n",
      "\n"
     ]
    }
   ],
   "source": [
    "requested_string = server_string.getInfo()\n",
    "print(f\"Server side string:\\n{requested_string}\\n\")"
   ]
  },
  {
   "cell_type": "markdown",
   "metadata": {
    "id": "Xj39ZGFDFkbL"
   },
   "source": [
    "Be careful with using `.getInfo()` as this is requires EE to compute and transfer the data synchronously to the local machine so it can cause slow-downs for your process. This also defeats the purpose of cloud-based computing. However, sometimes `.getInfo()` cannot be avoided so use with caution."
   ]
  },
  {
   "cell_type": "markdown",
   "metadata": {
    "id": "wYZ22wafGNUo"
   },
   "source": [
    "## Loading Earth Engine Data\n",
    "\n",
    "Earth Engine has a data catalog of popular remote sensing data that one can load, explore the structure and process data. Here was are going to load in an elevation dataset and do some processing."
   ]
  },
  {
   "cell_type": "code",
   "execution_count": 7,
   "metadata": {
    "id": "wvvN0AcKCE_w",
    "tags": []
   },
   "outputs": [],
   "source": [
    "# load the NASA DEM elevation dataset\n",
    "dem = ee.Image(\"NASA/NASADEM_HGT/001\")"
   ]
  },
  {
   "cell_type": "markdown",
   "metadata": {
    "id": "hRUEaV94eUW4"
   },
   "source": [
    "### Properties of Images"
   ]
  },
  {
   "cell_type": "code",
   "execution_count": 15,
   "metadata": {
    "id": "IRdTdgrRp1wT",
    "tags": []
   },
   "outputs": [
    {
     "data": {
      "application/json": {
       "bands": [
        {
         "crs": "EPSG:4326",
         "crs_transform": [
          0.0002777777777777778,
          0,
          -179.0001388888889,
          0,
          -0.0002777777777777778,
          61.00013888888889
         ],
         "data_type": {
          "max": 32767,
          "min": -32768,
          "precision": "int",
          "type": "PixelType"
         },
         "dimensions": [
          1288801,
          421201
         ],
         "id": "elevation"
        },
        {
         "crs": "EPSG:4326",
         "crs_transform": [
          0.0002777777777777778,
          0,
          -179.0001388888889,
          0,
          -0.0002777777777777778,
          61.00013888888889
         ],
         "data_type": {
          "max": 255,
          "min": 0,
          "precision": "int",
          "type": "PixelType"
         },
         "dimensions": [
          1288801,
          421201
         ],
         "id": "num"
        },
        {
         "crs": "EPSG:4326",
         "crs_transform": [
          0.0002777777777777778,
          0,
          -179.0001388888889,
          0,
          -0.0002777777777777778,
          61.00013888888889
         ],
         "data_type": {
          "max": 255,
          "min": 0,
          "precision": "int",
          "type": "PixelType"
         },
         "dimensions": [
          1288801,
          421201
         ],
         "id": "swb"
        }
       ],
       "id": "NASA/NASADEM_HGT/001",
       "properties": {
        "date_range": [
         950227200000,
         951177600000
        ],
        "description": "<p>NASADEM is a reprocessing of STRM data, with improved accuracy by incorporating auxiliary data\nfrom ASTER GDEM, ICESat GLAS, and PRISM datasets.</p><p>The most significant processing improvements involve void reduction through improved\nphase unwrapping and using ICESat GLAS data for control.</p><p>Documentation:</p><ul><li><a href=\"https://lpdaac.usgs.gov/documents/592/NASADEM_User_Guide_V1.pdf\">User&#39;s Guide</a></li></ul><p><b>Provider: <a href=\"https://cmr.earthdata.nasa.gov/search/concepts/C1546314043-LPDAAC_ECS.html\">NASA / USGS / JPL-Caltech</a></b><br><p><b>Bands</b><table class=\"eecat\"><tr><th scope=\"col\">Name</th><th scope=\"col\">Description</th></tr><tr><td>elevation</td><td><p>Integer heights in the merged void-free DEM files are relative to the\nEGM96 geoid (whereas the floating-point heights in the SRTM-only DEM files are relative to\nthe WGS84 ellipsoid).</p></td></tr><tr><td>num</td><td><p>Index indicating the data source and the number of source scenes.</p><ul><li>0: Water in corrected SRTM water body data</li><li>1-23: SRTM 1-23 (max known is 23)</li><li>41-94: PRISM 1-50 (54 max polar, 37 max elsewhere)</li><li>110-160: GDEM3 (saturated at 50)</li><li>170-220: GDEM2 (saturated at 50)</li><li>231: SRTMv3 from GDEM3</li><li>232: SRTMv2 from GDEM3</li><li>233: SRTMv2 from GDEM2</li><li>234: SRTM-with-NGA-fill from GDEM2</li><li>241: NED from GDEM2 (USA)</li><li>242: NED from GDEM3 (USA)</li><li>243: CDED from GDEM2 (Canada)</li><li>244: CDED from GDEM3 (Canada)</li><li>245: Alaska from GDEM2 (Alaska)</li><li>246: Alaska from GDEM3 (Alaska)</li><li>250: Interpolation</li><li>251: Quad edge averaged where two neighboring quads disagreed (generally a GDEM error)</li><li>255: ERROR (if NUM IS MISSING - none known to exist)</li></ul></td></tr><tr><td>swb</td><td><p>Updated SRTM water body data</p><ul><li>0: Land</li><li>255: Water</li></ul></td></tr></table><p><b>Terms of Use</b><br><p>Unless otherwise noted, all NASA-produced data may be used for any purpose without\nprior permission. For more information and exceptions visit the\n<a href=\"https://earthdata.nasa.gov/collaborate/open-data-services-and-software/data-information-policy\">NASA Data &amp; Information Policy page</a>.</p><p><b>Suggested citation(s)</b><ul><li><p>NASA JPL (2020). NASADEM Merged DEM Global 1 arc second V001 [Data set]. NASA EOSDIS Land\nProcesses DAAC. Accessed 2020-12-30 from https://doi.org/10.5067/MEaSUREs/NASADEM/NASADEM_HGT.001</p></li></ul><style>\n  table.eecat {\n  border: 1px solid black;\n  border-collapse: collapse;\n  font-size: 13px;\n  }\n  table.eecat td, tr, th {\n  text-align: left; vertical-align: top;\n  border: 1px solid gray; padding: 3px;\n  }\n  td.nobreak { white-space: nowrap; }\n</style>",
        "keywords": [
         "dem",
         "elevation",
         "geophysical",
         "nasa",
         "nasadem",
         "srtm",
         "topography",
         "usgs"
        ],
        "period": 0,
        "product_tags": [
         "nasadem",
         "srtm",
         "elevation",
         "topography",
         "dem",
         "geophysical"
        ],
        "provider": "NASA / USGS / JPL-Caltech",
        "provider_url": "https://cmr.earthdata.nasa.gov/search/concepts/C1546314043-LPDAAC_ECS.html",
        "sample": "https://mw1.google.com/ges/dd/images/NASADEM_HGT_001_sample.png",
        "source_tags": [
         "nasa",
         "usgs"
        ],
        "system:asset_size": 139000852947,
        "system:footprint": {
         "coordinates": [
          [
           -144.73828125306034,
           -56.000278238368686
          ],
          [
           -105.23242185112113,
           -56.00027824764527
          ],
          [
           -37.40820312968272,
           -56.00027826661891
          ],
          [
           19.752929728747688,
           -56.00027822905273
          ],
          [
           77.08886723064317,
           -56.00027829591546
          ],
          [
           142.6406250064462,
           -56.000278285607
          ],
          [
           179.00049757955398,
           -56.000277936790376
          ],
          [
           179.00057392307653,
           61.000277909079024
          ],
          [
           138.62011709218748,
           61.000278275388574
          ],
          [
           90.02441401141857,
           61.000278237489134
          ],
          [
           18.17968756388447,
           61.00027824817684
          ],
          [
           -42.127929588347705,
           61.000278252741154
          ],
          [
           -86.17871099251512,
           61.00027829214559
          ],
          [
           -152.25488278218177,
           61.000278219313
          ],
          [
           -179.00057392307653,
           61.000277909079024
          ],
          [
           -179.00049757955398,
           -56.000277936790376
          ],
          [
           -144.73828125306034,
           -56.000278238368686
          ]
         ],
         "type": "LinearRing"
        },
        "system:time_end": 951177600000,
        "system:time_start": 950227200000,
        "tags": [
         "dem",
         "elevation",
         "geophysical",
         "nasa",
         "nasadem",
         "srtm",
         "topography",
         "usgs"
        ],
        "thumb": "https://mw1.google.com/ges/dd/images/NASADEM_HGT_001_thumb.png",
        "title": "NASADEM: NASA NASADEM Digital Elevation 30m",
        "type_name": "Image",
        "visualization_0_bands": "elevation",
        "visualization_0_gamma": "1.6",
        "visualization_0_max": "6000.0",
        "visualization_0_min": "0.0",
        "visualization_0_name": "Elevation"
       },
       "type": "Image",
       "version": 1641990521971299
      },
      "text/plain": [
       "<IPython.core.display.JSON object>"
      ]
     },
     "execution_count": 15,
     "metadata": {
      "application/json": {
       "expanded": false,
       "root": "root"
      }
     },
     "output_type": "execute_result"
    }
   ],
   "source": [
    "# properties of an image\n",
    "JSON(dem.getInfo())"
   ]
  },
  {
   "cell_type": "code",
   "execution_count": 9,
   "metadata": {
    "id": "NHGm3guowquI",
    "tags": []
   },
   "outputs": [
    {
     "data": {
      "text/plain": [
       "['dem',\n",
       " 'elevation',\n",
       " 'geophysical',\n",
       " 'nasa',\n",
       " 'nasadem',\n",
       " 'srtm',\n",
       " 'topography',\n",
       " 'usgs']"
      ]
     },
     "execution_count": 9,
     "metadata": {},
     "output_type": "execute_result"
    }
   ],
   "source": [
    "# get the metadata property from an image\n",
    "dem.get(\"tags\").getInfo()"
   ]
  },
  {
   "cell_type": "code",
   "execution_count": 10,
   "metadata": {
    "id": "R_vyoMdWveO2",
    "tags": []
   },
   "outputs": [
    {
     "data": {
      "text/plain": [
       "['elevation', 'num', 'swb']"
      ]
     },
     "execution_count": 10,
     "metadata": {},
     "output_type": "execute_result"
    }
   ],
   "source": [
    "# print the band information\n",
    "dem.bandNames().getInfo()"
   ]
  },
  {
   "cell_type": "code",
   "execution_count": 11,
   "metadata": {
    "id": "0N831KBy-idO",
    "tags": []
   },
   "outputs": [
    {
     "name": "stdout",
     "output_type": "stream",
     "text": [
      "SRTM resolution: 30.922080775909325\n",
      "SRTM GeoTransform: PARAM_MT[\"Affine\", \n",
      "  PARAMETER[\"num_row\", 3], \n",
      "  PARAMETER[\"num_col\", 3], \n",
      "  PARAMETER[\"elt_0_0\", 0.0002777777777777778], \n",
      "  PARAMETER[\"elt_0_2\", -179.0001388888889], \n",
      "  PARAMETER[\"elt_1_1\", -0.0002777777777777778], \n",
      "  PARAMETER[\"elt_1_2\", 61.00013888888889]]\n"
     ]
    }
   ],
   "source": [
    "# get spatial metadata from image\n",
    "proj = dem.projection()\n",
    "\n",
    "# from this we can extract different information\n",
    "resolution = proj.nominalScale()\n",
    "geotransform = proj.transform()\n",
    "\n",
    "# print the spatial information\n",
    "print(f\"SRTM resolution: {resolution.getInfo()}\")\n",
    "print(f\"SRTM GeoTransform: {geotransform.getInfo()}\")"
   ]
  },
  {
   "cell_type": "markdown",
   "metadata": {
    "id": "E_hhYwxPHlCz"
   },
   "source": [
    "### A simple processing example\n",
    "\n",
    "To test processing some data we will define a define a point (i.e. geometry) for Mount Everest and request the elevation:"
   ]
  },
  {
   "cell_type": "code",
   "execution_count": 12,
   "metadata": {
    "id": "aVoSm2rBHiEN",
    "tags": []
   },
   "outputs": [
    {
     "name": "stdout",
     "output_type": "stream",
     "text": [
      "Mount Everest elevation (m): 8772\n"
     ]
    }
   ],
   "source": [
    "xy = ee.Geometry.Point([86.9250, 27.9881])\n",
    "elev = dem.sample(xy, 30).first().get('elevation').getInfo()\n",
    "print('Mount Everest elevation (m):', elev)"
   ]
  },
  {
   "cell_type": "markdown",
   "metadata": {
    "id": "W34OAw_4NcFD"
   },
   "source": [
    "### Visualizing Earth Engine Images\n",
    "\n",
    "To visualize the DEM data we will use `geemap` to define an interactive map and add the `ee.Image` object with visulization parameters:"
   ]
  },
  {
   "cell_type": "code",
   "execution_count": 13,
   "metadata": {
    "id": "uWR03PXYNRpE",
    "tags": []
   },
   "outputs": [
    {
     "data": {
      "application/vnd.jupyter.widget-view+json": {
       "model_id": "77d80edd9d4b4303bc377d2b2f8314dd",
       "version_major": 2,
       "version_minor": 0
      },
      "text/plain": [
       "Map(center=[20, 0], controls=(WidgetControl(options=['position', 'transparent_bg'], widget=HBox(children=(Togg…"
      ]
     },
     "execution_count": 13,
     "metadata": {},
     "output_type": "execute_result"
    }
   ],
   "source": [
    "# Display result\n",
    "Map = geemap.Map(zoom=3)\n",
    "\n",
    "Map.addLayer(dem, {\"min\":0,\"max\":3000, \"bands\":\"elevation\", \"palette\":cmaps.get_palette(\"terrain\")}, \"DEM\")\n",
    "\n",
    "Map.addLayerControl()\n",
    "\n",
    "Map"
   ]
  },
  {
   "cell_type": "markdown",
   "metadata": {
    "id": "JAeRh_XH_RA_"
   },
   "source": [
    "## Image Collections: An Organized Set of Images\n",
    "\n",
    "You saw some of the basic ways to interact with an individual `ee.Image ` , however, depending on how long a remote-sensing platform has been in operation, there may be thousands or millions of images collected of Earth. In Earth Engine, these are organized into an *ImageCollection*, a specialized data type that has specific operations available in the Earth Engine API.\n",
    "\n",
    "We work with image collections in complex ways later on. For now, we will view and work with their most basic attributes, and use these skills to view some of the major types of image collections in Earth Engine. We will view some of the different types of data sets in the following sections, including climate and weather data, digital elevation models and other terrain data, land cover, cropland, satellite imagery, and others.\n",
    "\n"
   ]
  },
  {
   "cell_type": "markdown",
   "metadata": {
    "id": "96CJFXWs3Ie4"
   },
   "source": [
    "### View an Image Collection\n",
    "\n",
    "The Landsat program is a joint NASA/USGS program that has launched a sequence of Earth observation satellites, named Landsat 1, 2, etc. Landsats have been returning images since 1972, making that collection of images the longest continuous observation of the Earth's surface. We will now view images and basic information about one of the image collections that is still growing: collections of scenes taken by Landsat 8, launched in 2013."
   ]
  },
  {
   "cell_type": "code",
   "execution_count": 20,
   "metadata": {
    "id": "T_smaiwH_a3J",
    "tags": []
   },
   "outputs": [],
   "source": [
    "# load in the landsat collection\n",
    "landsat8 = ee.ImageCollection(\"LANDSAT/LC08/C01/T1\")"
   ]
  },
  {
   "cell_type": "code",
   "execution_count": 21,
   "metadata": {
    "id": "5AMIIiob3QVI",
    "tags": []
   },
   "outputs": [
    {
     "name": "stdout",
     "output_type": "stream",
     "text": [
      "The size of the Landsat 8 image collection is: 1291738\n"
     ]
    }
   ],
   "source": [
    "# print the number of images in a collection\n",
    "n_imgs = landsat8.size().getInfo()\n",
    "\n",
    "print(f\"The size of the Landsat 8 image collection is: {n_imgs}\");"
   ]
  },
  {
   "cell_type": "code",
   "execution_count": 22,
   "metadata": {
    "id": "CYGg6H_s4Eay",
    "tags": []
   },
   "outputs": [
    {
     "data": {
      "application/vnd.jupyter.widget-view+json": {
       "model_id": "5bb7131f7d9f4aaaa6acbeca61a1f46f",
       "version_major": 2,
       "version_minor": 0
      },
      "text/plain": [
       "Map(center=[20, 0], controls=(WidgetControl(options=['position', 'transparent_bg'], widget=HBox(children=(Togg…"
      ]
     },
     "execution_count": 22,
     "metadata": {},
     "output_type": "execute_result"
    }
   ],
   "source": [
    "# Display result\n",
    "Map = geemap.Map(zoom=3)\n",
    "\n",
    "Map.addLayer(landsat8, {\"bands\": ['B4','B3','B2'], \"min\": 5000, \"max\": 15000}, 'Landsat 8 Image Collection');\n",
    "\n",
    "Map.addLayerControl()\n",
    "\n",
    "Map"
   ]
  },
  {
   "cell_type": "markdown",
   "metadata": {
    "id": "du8kY2tY4njg"
   },
   "source": [
    "Notice the high amount of cloud cover, and the “layered” look. This is because Earth Engine is drawing each of the images that make up the ImageCollection one on top of the other (i.e. mosaic operation). The striped look is the result of how the satellite collects imagery. The overlaps between images and the individual nature of the images mean that these are not quite ready for analysis.\n"
   ]
  },
  {
   "cell_type": "markdown",
   "metadata": {
    "id": "IXUarOAd5W2M"
   },
   "source": [
    "### Filtering Image Collections\n",
    "The ImageCollection data type in Earth Engine has multiple approaches to filtering which helps to pinpoint the exact images you want to view or analyze from the larger collection."
   ]
  },
  {
   "cell_type": "markdown",
   "metadata": {
    "id": "UDvB-zeR8eOE"
   },
   "source": [
    "#### Filter by time\n",
    "\n",
    "The first type of filtering is by time. We can define a date range for the whole collection."
   ]
  },
  {
   "cell_type": "code",
   "execution_count": 23,
   "metadata": {
    "id": "LW4FJ7935hsf",
    "tags": []
   },
   "outputs": [],
   "source": [
    "# specify the start and end dates of interest\n",
    "start_time = \"2021-01-01\"\n",
    "end_time = \"2022-01-01\" # end date is exclusive\n",
    "\n",
    "# apply date range filter\n",
    "landsat8_filtered = landsat8.filterDate(start_time,end_time)"
   ]
  },
  {
   "cell_type": "code",
   "execution_count": 24,
   "metadata": {
    "id": "QG5T0uWQ7pTM",
    "tags": []
   },
   "outputs": [
    {
     "name": "stdout",
     "output_type": "stream",
     "text": [
      "The size of the Landsat 8 image collection is: 150773\n"
     ]
    }
   ],
   "source": [
    "# print the number of images in the filtered collection\n",
    "n_imgs_filtered = landsat8_filtered.size().getInfo()\n",
    "\n",
    "print(f\"The size of the Landsat 8 image collection is: {n_imgs_filtered}\")"
   ]
  },
  {
   "cell_type": "markdown",
   "metadata": {
    "id": "lDIvuuim8_cz"
   },
   "source": [
    "The number is significantly lower than the number of images in the entire collection. This is the result of filtering the dates to one year (2021).\n"
   ]
  },
  {
   "cell_type": "code",
   "execution_count": 25,
   "metadata": {
    "id": "hfxJ1vJi8lQi",
    "tags": []
   },
   "outputs": [
    {
     "data": {
      "application/vnd.jupyter.widget-view+json": {
       "model_id": "822d5507d58b4ad6be4d2cf6848bfd0b",
       "version_major": 2,
       "version_minor": 0
      },
      "text/plain": [
       "Map(center=[20, 0], controls=(WidgetControl(options=['position', 'transparent_bg'], widget=HBox(children=(Togg…"
      ]
     },
     "execution_count": 25,
     "metadata": {},
     "output_type": "execute_result"
    }
   ],
   "source": [
    "# Display result\n",
    "Map = geemap.Map(zoom=3)\n",
    "\n",
    "Map.addLayer(landsat8_filtered, {\"bands\": ['B4','B3','B2'], \"min\": 5000, \"max\": 15000}, 'Landsat 8 Image Collection');\n",
    "\n",
    "Map.addLayerControl()\n",
    "\n",
    "Map"
   ]
  },
  {
   "cell_type": "markdown",
   "metadata": {
    "id": "Rd3ScgQRG60z"
   },
   "source": [
    "While this example shows a linear range to filter by time, a calendar range can also be used to filter data for multiple years to a specific season."
   ]
  },
  {
   "cell_type": "markdown",
   "metadata": {
    "id": "PrpBA2nM84zh"
   },
   "source": [
    "#### Filter by space\n",
    "\n",
    "The next filter we will examine is filtering the collection to a specific location by a geometry."
   ]
  },
  {
   "cell_type": "code",
   "execution_count": 26,
   "metadata": {
    "id": "K_34yz0Ne4ef",
    "tags": []
   },
   "outputs": [],
   "source": [
    "# define a point for Provo, UT\n",
    "portland = ee.Geometry.Point(-122.6784, 45.5152)"
   ]
  },
  {
   "cell_type": "code",
   "execution_count": 27,
   "metadata": {
    "id": "ai2uKjhEvQ2G",
    "tags": []
   },
   "outputs": [],
   "source": [
    "# filter the collection to the geometry\n",
    "landsat8_portland = landsat8_filtered.filterBounds(portland)"
   ]
  },
  {
   "cell_type": "code",
   "execution_count": 28,
   "metadata": {
    "id": "uiq9D2p9ADQb",
    "tags": []
   },
   "outputs": [
    {
     "data": {
      "application/vnd.jupyter.widget-view+json": {
       "model_id": "6ae02f75843f46f8992ac4b0789cc6a9",
       "version_major": 2,
       "version_minor": 0
      },
      "text/plain": [
       "Map(center=[45.5152, -122.67839999999998], controls=(WidgetControl(options=['position', 'transparent_bg'], wid…"
      ]
     },
     "execution_count": 28,
     "metadata": {},
     "output_type": "execute_result"
    }
   ],
   "source": [
    "# Display result\n",
    "Map = geemap.Map()\n",
    "\n",
    "Map.centerObject(portland, 10)\n",
    "\n",
    "Map.addLayer(landsat8_portland, {\"bands\": ['B4',\"B3\",\"B2\"], \"min\": 5000, \"max\": 15000}, 'Landsat 8 Image Collection');\n",
    "\n",
    "Map.addLayerControl()\n",
    "\n",
    "Map"
   ]
  },
  {
   "cell_type": "markdown",
   "metadata": {
    "id": "cs4dAOFlBHRO"
   },
   "source": [
    "#### Filter by property\n",
    "\n",
    "The methods `.filterDate()` and `.filterBounds()` we have used are special filters because they are used so often. Underneath, the filtering is applied using a filter object (i.e. `ee.Filter()`) on metadata properties. We we go through an example of how this works to filter imagery with lower cloud cover."
   ]
  },
  {
   "cell_type": "code",
   "execution_count": 30,
   "metadata": {
    "id": "3rH08AEOaZ0_",
    "tags": []
   },
   "outputs": [
    {
     "data": {
      "application/json": {
       "bands": [],
       "features": [
        {
         "bands": [
          {
           "crs": "EPSG:32628",
           "crs_transform": [
            30,
            0,
            341085,
            0,
            -30,
            8807715
           ],
           "data_type": {
            "max": 65535,
            "min": 0,
            "precision": "int",
            "type": "PixelType"
           },
           "dimensions": [
            9171,
            9161
           ],
           "id": "B1"
          },
          {
           "crs": "EPSG:32628",
           "crs_transform": [
            30,
            0,
            341085,
            0,
            -30,
            8807715
           ],
           "data_type": {
            "max": 65535,
            "min": 0,
            "precision": "int",
            "type": "PixelType"
           },
           "dimensions": [
            9171,
            9161
           ],
           "id": "B2"
          },
          {
           "crs": "EPSG:32628",
           "crs_transform": [
            30,
            0,
            341085,
            0,
            -30,
            8807715
           ],
           "data_type": {
            "max": 65535,
            "min": 0,
            "precision": "int",
            "type": "PixelType"
           },
           "dimensions": [
            9171,
            9161
           ],
           "id": "B3"
          },
          {
           "crs": "EPSG:32628",
           "crs_transform": [
            30,
            0,
            341085,
            0,
            -30,
            8807715
           ],
           "data_type": {
            "max": 65535,
            "min": 0,
            "precision": "int",
            "type": "PixelType"
           },
           "dimensions": [
            9171,
            9161
           ],
           "id": "B4"
          },
          {
           "crs": "EPSG:32628",
           "crs_transform": [
            30,
            0,
            341085,
            0,
            -30,
            8807715
           ],
           "data_type": {
            "max": 65535,
            "min": 0,
            "precision": "int",
            "type": "PixelType"
           },
           "dimensions": [
            9171,
            9161
           ],
           "id": "B5"
          },
          {
           "crs": "EPSG:32628",
           "crs_transform": [
            30,
            0,
            341085,
            0,
            -30,
            8807715
           ],
           "data_type": {
            "max": 65535,
            "min": 0,
            "precision": "int",
            "type": "PixelType"
           },
           "dimensions": [
            9171,
            9161
           ],
           "id": "B6"
          },
          {
           "crs": "EPSG:32628",
           "crs_transform": [
            30,
            0,
            341085,
            0,
            -30,
            8807715
           ],
           "data_type": {
            "max": 65535,
            "min": 0,
            "precision": "int",
            "type": "PixelType"
           },
           "dimensions": [
            9171,
            9161
           ],
           "id": "B7"
          },
          {
           "crs": "EPSG:32628",
           "crs_transform": [
            15,
            0,
            341092.5,
            0,
            -15,
            8807707.5
           ],
           "data_type": {
            "max": 65535,
            "min": 0,
            "precision": "int",
            "type": "PixelType"
           },
           "dimensions": [
            18341,
            18321
           ],
           "id": "B8"
          },
          {
           "crs": "EPSG:32628",
           "crs_transform": [
            30,
            0,
            341085,
            0,
            -30,
            8807715
           ],
           "data_type": {
            "max": 65535,
            "min": 0,
            "precision": "int",
            "type": "PixelType"
           },
           "dimensions": [
            9171,
            9161
           ],
           "id": "B9"
          },
          {
           "crs": "EPSG:32628",
           "crs_transform": [
            30,
            0,
            341085,
            0,
            -30,
            8807715
           ],
           "data_type": {
            "max": 65535,
            "min": 0,
            "precision": "int",
            "type": "PixelType"
           },
           "dimensions": [
            9171,
            9161
           ],
           "id": "B10"
          },
          {
           "crs": "EPSG:32628",
           "crs_transform": [
            30,
            0,
            341085,
            0,
            -30,
            8807715
           ],
           "data_type": {
            "max": 65535,
            "min": 0,
            "precision": "int",
            "type": "PixelType"
           },
           "dimensions": [
            9171,
            9161
           ],
           "id": "B11"
          },
          {
           "crs": "EPSG:32628",
           "crs_transform": [
            30,
            0,
            341085,
            0,
            -30,
            8807715
           ],
           "data_type": {
            "max": 65535,
            "min": 0,
            "precision": "int",
            "type": "PixelType"
           },
           "dimensions": [
            9171,
            9161
           ],
           "id": "BQA"
          }
         ],
         "id": "LANDSAT/LC08/C01/T1/LC08_001004_20140524",
         "properties": {
          "BPF_NAME_OLI": "LO8BPF20140524140630_20140524144417.01",
          "BPF_NAME_TIRS": "LT8BPF20140524140236_20140524144510.01",
          "CLOUD_COVER": 88.55000305175781,
          "CLOUD_COVER_LAND": 38.20000076293945,
          "COLLECTION_CATEGORY": "T1",
          "COLLECTION_NUMBER": 1,
          "CPF_NAME": "LC08CPF_20140401_20140630_01.01",
          "DATA_TYPE": "L1TP",
          "DATE_ACQUIRED": "2014-05-24",
          "DATUM": "WGS84",
          "EARTH_SUN_DISTANCE": 1.0127068758010864,
          "ELEVATION_SOURCE": "GLS2000",
          "ELLIPSOID": "WGS84",
          "FILE_DATE": 1492857311000,
          "GEOMETRIC_RMSE_MODEL": 7.665999889373779,
          "GEOMETRIC_RMSE_MODEL_X": 5.482999801635742,
          "GEOMETRIC_RMSE_MODEL_Y": 5.357999801635742,
          "GRID_CELL_SIZE_PANCHROMATIC": 15,
          "GRID_CELL_SIZE_REFLECTIVE": 30,
          "GRID_CELL_SIZE_THERMAL": 30,
          "GROUND_CONTROL_POINTS_MODEL": 7,
          "GROUND_CONTROL_POINTS_VERSION": 4,
          "IMAGE_QUALITY_OLI": 9,
          "IMAGE_QUALITY_TIRS": 9,
          "K1_CONSTANT_BAND_10": 774.8853149414062,
          "K1_CONSTANT_BAND_11": 480.8883056640625,
          "K2_CONSTANT_BAND_10": 1321.078857421875,
          "K2_CONSTANT_BAND_11": 1201.1441650390625,
          "LANDSAT_PRODUCT_ID": "LC08_L1TP_001004_20140524_20170422_01_T1",
          "LANDSAT_SCENE_ID": "LC80010042014144LGN01",
          "MAP_PROJECTION": "UTM",
          "NADIR_OFFNADIR": "NADIR",
          "ORIENTATION": "NORTH_UP",
          "PANCHROMATIC_LINES": 18321,
          "PANCHROMATIC_SAMPLES": 18341,
          "PROCESSING_SOFTWARE_VERSION": "LPGS_2.7.0",
          "RADIANCE_ADD_BAND_1": -61.21323013305664,
          "RADIANCE_ADD_BAND_10": 0.10000000149011612,
          "RADIANCE_ADD_BAND_11": 0.10000000149011612,
          "RADIANCE_ADD_BAND_2": -62.68309020996094,
          "RADIANCE_ADD_BAND_3": -57.76192855834961,
          "RADIANCE_ADD_BAND_4": -48.7081184387207,
          "RADIANCE_ADD_BAND_5": -29.80694007873535,
          "RADIANCE_ADD_BAND_6": -7.412710189819336,
          "RADIANCE_ADD_BAND_7": -2.4984800815582275,
          "RADIANCE_ADD_BAND_8": -55.12417984008789,
          "RADIANCE_ADD_BAND_9": -11.649230003356934,
          "RADIANCE_MULT_BAND_1": 0.012242999859154224,
          "RADIANCE_MULT_BAND_10": 0.00033420001273043454,
          "RADIANCE_MULT_BAND_11": 0.00033420001273043454,
          "RADIANCE_MULT_BAND_2": 0.012536999769508839,
          "RADIANCE_MULT_BAND_3": 0.011552000418305397,
          "RADIANCE_MULT_BAND_4": 0.009741599671542645,
          "RADIANCE_MULT_BAND_5": 0.005961399991065264,
          "RADIANCE_MULT_BAND_6": 0.001482499996200204,
          "RADIANCE_MULT_BAND_7": 0.0004997000214643776,
          "RADIANCE_MULT_BAND_8": 0.011025000363588333,
          "RADIANCE_MULT_BAND_9": 0.002329800045117736,
          "REFLECTANCE_ADD_BAND_1": -0.10000000149011612,
          "REFLECTANCE_ADD_BAND_2": -0.10000000149011612,
          "REFLECTANCE_ADD_BAND_3": -0.10000000149011612,
          "REFLECTANCE_ADD_BAND_4": -0.10000000149011612,
          "REFLECTANCE_ADD_BAND_5": -0.10000000149011612,
          "REFLECTANCE_ADD_BAND_6": -0.10000000149011612,
          "REFLECTANCE_ADD_BAND_7": -0.10000000149011612,
          "REFLECTANCE_ADD_BAND_8": -0.10000000149011612,
          "REFLECTANCE_ADD_BAND_9": -0.10000000149011612,
          "REFLECTANCE_MULT_BAND_1": 1.9999999494757503e-05,
          "REFLECTANCE_MULT_BAND_2": 1.9999999494757503e-05,
          "REFLECTANCE_MULT_BAND_3": 1.9999999494757503e-05,
          "REFLECTANCE_MULT_BAND_4": 1.9999999494757503e-05,
          "REFLECTANCE_MULT_BAND_5": 1.9999999494757503e-05,
          "REFLECTANCE_MULT_BAND_6": 1.9999999494757503e-05,
          "REFLECTANCE_MULT_BAND_7": 1.9999999494757503e-05,
          "REFLECTANCE_MULT_BAND_8": 1.9999999494757503e-05,
          "REFLECTANCE_MULT_BAND_9": 1.9999999494757503e-05,
          "REFLECTIVE_LINES": 9161,
          "REFLECTIVE_SAMPLES": 9171,
          "REQUEST_ID": "0501704226249_00002",
          "RESAMPLING_OPTION": "CUBIC_CONVOLUTION",
          "RLUT_FILE_NAME": "LC08RLUT_20130211_20150302_01_11.h5",
          "ROLL_ANGLE": -0.0010000000474974513,
          "SATURATION_BAND_1": "N",
          "SATURATION_BAND_2": "N",
          "SATURATION_BAND_3": "N",
          "SATURATION_BAND_4": "N",
          "SATURATION_BAND_5": "N",
          "SATURATION_BAND_6": "N",
          "SATURATION_BAND_7": "N",
          "SATURATION_BAND_8": "N",
          "SATURATION_BAND_9": "N",
          "SCENE_CENTER_TIME": "14:07:53.5175160Z",
          "SENSOR_ID": "OLI_TIRS",
          "SPACECRAFT_ID": "LANDSAT_8",
          "STATION_ID": "LGN",
          "SUN_AZIMUTH": -161.3436737060547,
          "SUN_ELEVATION": 32.1458625793457,
          "TARGET_WRS_PATH": 1,
          "TARGET_WRS_ROW": 4,
          "THERMAL_LINES": 9161,
          "THERMAL_SAMPLES": 9171,
          "TIRS_SSM_MODEL": "ACTUAL",
          "TIRS_SSM_POSITION_STATUS": "NOMINAL",
          "TIRS_STRAY_LIGHT_CORRECTION_SOURCE": "TIRS",
          "TRUNCATION_OLI": "UPPER",
          "UTM_ZONE": 28,
          "WRS_PATH": 1,
          "WRS_ROW": 4,
          "system:asset_size": 1222749075,
          "system:footprint": {
           "coordinates": [
            [
             -14.48531653328562,
             77.19560246459865
            ],
            [
             -14.260656626377951,
             77.2438675118657
            ],
            [
             -11.037446463313719,
             77.8806505434013
            ],
            [
             -10.514798911626153,
             77.97486896283264
            ],
            [
             -9.973183928299736,
             78.07037739268894
            ],
            [
             -10.898578963431735,
             78.29254506737068
            ],
            [
             -12.946558538425377,
             78.74610026610401
            ],
            [
             -15.16335454980503,
             79.18492563273314
            ],
            [
             -15.9873774544603,
             79.33551824894327
            ],
            [
             -16.167196970615183,
             79.30133757875339
            ],
            [
             -19.0480099639651,
             78.70410801025652
            ],
            [
             -21.637622546414864,
             78.08197287736508
            ],
            [
             -21.8586022291594,
             78.02423500898735
            ],
            [
             -21.823412156720035,
             78.01809542186105
            ],
            [
             -21.044631785762583,
             77.88596723086232
            ],
            [
             -17.249703063874698,
             77.16435550230098
            ],
            [
             -16.03273667328167,
             76.90249653097108
            ],
            [
             -15.91309511137179,
             76.87623197230317
            ],
            [
             -15.777460011234437,
             76.90742783932848
            ],
            [
             -15.020703972411463,
             77.07841355112116
            ],
            [
             -14.48531653328562,
             77.19560246459865
            ]
           ],
           "type": "LinearRing"
          },
          "system:index": "LC08_001004_20140524",
          "system:time_start": 1400940473520
         },
         "type": "Image",
         "version": 1497530321971000
        },
        {
         "bands": [
          {
           "crs": "EPSG:32628",
           "crs_transform": [
            30,
            0,
            341085,
            0,
            -30,
            8808015
           ],
           "data_type": {
            "max": 65535,
            "min": 0,
            "precision": "int",
            "type": "PixelType"
           },
           "dimensions": [
            9161,
            9161
           ],
           "id": "B1"
          },
          {
           "crs": "EPSG:32628",
           "crs_transform": [
            30,
            0,
            341085,
            0,
            -30,
            8808015
           ],
           "data_type": {
            "max": 65535,
            "min": 0,
            "precision": "int",
            "type": "PixelType"
           },
           "dimensions": [
            9161,
            9161
           ],
           "id": "B2"
          },
          {
           "crs": "EPSG:32628",
           "crs_transform": [
            30,
            0,
            341085,
            0,
            -30,
            8808015
           ],
           "data_type": {
            "max": 65535,
            "min": 0,
            "precision": "int",
            "type": "PixelType"
           },
           "dimensions": [
            9161,
            9161
           ],
           "id": "B3"
          },
          {
           "crs": "EPSG:32628",
           "crs_transform": [
            30,
            0,
            341085,
            0,
            -30,
            8808015
           ],
           "data_type": {
            "max": 65535,
            "min": 0,
            "precision": "int",
            "type": "PixelType"
           },
           "dimensions": [
            9161,
            9161
           ],
           "id": "B4"
          },
          {
           "crs": "EPSG:32628",
           "crs_transform": [
            30,
            0,
            341085,
            0,
            -30,
            8808015
           ],
           "data_type": {
            "max": 65535,
            "min": 0,
            "precision": "int",
            "type": "PixelType"
           },
           "dimensions": [
            9161,
            9161
           ],
           "id": "B5"
          },
          {
           "crs": "EPSG:32628",
           "crs_transform": [
            30,
            0,
            341085,
            0,
            -30,
            8808015
           ],
           "data_type": {
            "max": 65535,
            "min": 0,
            "precision": "int",
            "type": "PixelType"
           },
           "dimensions": [
            9161,
            9161
           ],
           "id": "B6"
          },
          {
           "crs": "EPSG:32628",
           "crs_transform": [
            30,
            0,
            341085,
            0,
            -30,
            8808015
           ],
           "data_type": {
            "max": 65535,
            "min": 0,
            "precision": "int",
            "type": "PixelType"
           },
           "dimensions": [
            9161,
            9161
           ],
           "id": "B7"
          },
          {
           "crs": "EPSG:32628",
           "crs_transform": [
            15,
            0,
            341092.5,
            0,
            -15,
            8808007.5
           ],
           "data_type": {
            "max": 65535,
            "min": 0,
            "precision": "int",
            "type": "PixelType"
           },
           "dimensions": [
            18321,
            18321
           ],
           "id": "B8"
          },
          {
           "crs": "EPSG:32628",
           "crs_transform": [
            30,
            0,
            341085,
            0,
            -30,
            8808015
           ],
           "data_type": {
            "max": 65535,
            "min": 0,
            "precision": "int",
            "type": "PixelType"
           },
           "dimensions": [
            9161,
            9161
           ],
           "id": "B9"
          },
          {
           "crs": "EPSG:32628",
           "crs_transform": [
            30,
            0,
            341085,
            0,
            -30,
            8808015
           ],
           "data_type": {
            "max": 65535,
            "min": 0,
            "precision": "int",
            "type": "PixelType"
           },
           "dimensions": [
            9161,
            9161
           ],
           "id": "B10"
          },
          {
           "crs": "EPSG:32628",
           "crs_transform": [
            30,
            0,
            341085,
            0,
            -30,
            8808015
           ],
           "data_type": {
            "max": 65535,
            "min": 0,
            "precision": "int",
            "type": "PixelType"
           },
           "dimensions": [
            9161,
            9161
           ],
           "id": "B11"
          },
          {
           "crs": "EPSG:32628",
           "crs_transform": [
            30,
            0,
            341085,
            0,
            -30,
            8808015
           ],
           "data_type": {
            "max": 65535,
            "min": 0,
            "precision": "int",
            "type": "PixelType"
           },
           "dimensions": [
            9161,
            9161
           ],
           "id": "BQA"
          }
         ],
         "id": "LANDSAT/LC08/C01/T1/LC08_001004_20140609",
         "properties": {
          "BPF_NAME_OLI": "LO8BPF20140609140705_20140609144427.01",
          "BPF_NAME_TIRS": "LT8BPF20140609140311_20140609144520.01",
          "CLOUD_COVER": 23.940000534057617,
          "CLOUD_COVER_LAND": 0,
          "COLLECTION_CATEGORY": "T1",
          "COLLECTION_NUMBER": 1,
          "CPF_NAME": "LC08CPF_20140401_20140630_01.01",
          "DATA_TYPE": "L1TP",
          "DATE_ACQUIRED": "2014-06-09",
          "DATUM": "WGS84",
          "EARTH_SUN_DISTANCE": 1.015102744102478,
          "ELEVATION_SOURCE": "GLS2000",
          "ELLIPSOID": "WGS84",
          "FILE_DATE": 1492825900000,
          "GEOMETRIC_RMSE_MODEL": 9.71399974822998,
          "GEOMETRIC_RMSE_MODEL_X": 6.376999855041504,
          "GEOMETRIC_RMSE_MODEL_Y": 7.328000068664551,
          "GRID_CELL_SIZE_PANCHROMATIC": 15,
          "GRID_CELL_SIZE_REFLECTIVE": 30,
          "GRID_CELL_SIZE_THERMAL": 30,
          "GROUND_CONTROL_POINTS_MODEL": 39,
          "GROUND_CONTROL_POINTS_VERSION": 4,
          "IMAGE_QUALITY_OLI": 9,
          "IMAGE_QUALITY_TIRS": 9,
          "K1_CONSTANT_BAND_10": 774.8853149414062,
          "K1_CONSTANT_BAND_11": 480.8883056640625,
          "K2_CONSTANT_BAND_10": 1321.078857421875,
          "K2_CONSTANT_BAND_11": 1201.1441650390625,
          "LANDSAT_PRODUCT_ID": "LC08_L1TP_001004_20140609_20170422_01_T1",
          "LANDSAT_SCENE_ID": "LC80010042014160LGN01",
          "MAP_PROJECTION": "UTM",
          "NADIR_OFFNADIR": "NADIR",
          "ORIENTATION": "NORTH_UP",
          "PANCHROMATIC_LINES": 18321,
          "PANCHROMATIC_SAMPLES": 18321,
          "PROCESSING_SOFTWARE_VERSION": "LPGS_2.7.0",
          "RADIANCE_ADD_BAND_1": -60.92462158203125,
          "RADIANCE_ADD_BAND_10": 0.10000000149011612,
          "RADIANCE_ADD_BAND_11": 0.10000000149011612,
          "RADIANCE_ADD_BAND_2": -62.3875617980957,
          "RADIANCE_ADD_BAND_3": -57.489601135253906,
          "RADIANCE_ADD_BAND_4": -48.47846984863281,
          "RADIANCE_ADD_BAND_5": -29.666410446166992,
          "RADIANCE_ADD_BAND_6": -7.377769947052002,
          "RADIANCE_ADD_BAND_7": -2.4867000579833984,
          "RADIANCE_ADD_BAND_8": -54.864288330078125,
          "RADIANCE_ADD_BAND_9": -11.594300270080566,
          "RADIANCE_MULT_BAND_1": 0.012184999883174896,
          "RADIANCE_MULT_BAND_10": 0.00033420001273043454,
          "RADIANCE_MULT_BAND_11": 0.00033420001273043454,
          "RADIANCE_MULT_BAND_2": 0.012477999553084373,
          "RADIANCE_MULT_BAND_3": 0.011497999541461468,
          "RADIANCE_MULT_BAND_4": 0.009695700369775295,
          "RADIANCE_MULT_BAND_5": 0.0059333001263439655,
          "RADIANCE_MULT_BAND_6": 0.0014755999436601996,
          "RADIANCE_MULT_BAND_7": 0.0004973399918526411,
          "RADIANCE_MULT_BAND_8": 0.010972999967634678,
          "RADIANCE_MULT_BAND_9": 0.00231890007853508,
          "REFLECTANCE_ADD_BAND_1": -0.10000000149011612,
          "REFLECTANCE_ADD_BAND_2": -0.10000000149011612,
          "REFLECTANCE_ADD_BAND_3": -0.10000000149011612,
          "REFLECTANCE_ADD_BAND_4": -0.10000000149011612,
          "REFLECTANCE_ADD_BAND_5": -0.10000000149011612,
          "REFLECTANCE_ADD_BAND_6": -0.10000000149011612,
          "REFLECTANCE_ADD_BAND_7": -0.10000000149011612,
          "REFLECTANCE_ADD_BAND_8": -0.10000000149011612,
          "REFLECTANCE_ADD_BAND_9": -0.10000000149011612,
          "REFLECTANCE_MULT_BAND_1": 1.9999999494757503e-05,
          "REFLECTANCE_MULT_BAND_2": 1.9999999494757503e-05,
          "REFLECTANCE_MULT_BAND_3": 1.9999999494757503e-05,
          "REFLECTANCE_MULT_BAND_4": 1.9999999494757503e-05,
          "REFLECTANCE_MULT_BAND_5": 1.9999999494757503e-05,
          "REFLECTANCE_MULT_BAND_6": 1.9999999494757503e-05,
          "REFLECTANCE_MULT_BAND_7": 1.9999999494757503e-05,
          "REFLECTANCE_MULT_BAND_8": 1.9999999494757503e-05,
          "REFLECTANCE_MULT_BAND_9": 1.9999999494757503e-05,
          "REFLECTIVE_LINES": 9161,
          "REFLECTIVE_SAMPLES": 9161,
          "REQUEST_ID": "0501704215352_00001",
          "RESAMPLING_OPTION": "CUBIC_CONVOLUTION",
          "RLUT_FILE_NAME": "LC08RLUT_20130211_20150302_01_11.h5",
          "ROLL_ANGLE": -0.0010000000474974513,
          "SATURATION_BAND_1": "N",
          "SATURATION_BAND_2": "N",
          "SATURATION_BAND_3": "N",
          "SATURATION_BAND_4": "N",
          "SATURATION_BAND_5": "N",
          "SATURATION_BAND_6": "N",
          "SATURATION_BAND_7": "N",
          "SATURATION_BAND_8": "N",
          "SATURATION_BAND_9": "N",
          "SCENE_CENTER_TIME": "14:08:03.9927820Z",
          "SENSOR_ID": "OLI_TIRS",
          "SPACECRAFT_ID": "LANDSAT_8",
          "STATION_ID": "LGN",
          "SUN_AZIMUTH": -161.80056762695312,
          "SUN_ELEVATION": 34.31007766723633,
          "TARGET_WRS_PATH": 1,
          "TARGET_WRS_ROW": 4,
          "THERMAL_LINES": 9161,
          "THERMAL_SAMPLES": 9161,
          "TIRS_SSM_MODEL": "ACTUAL",
          "TIRS_SSM_POSITION_STATUS": "NOMINAL",
          "TIRS_STRAY_LIGHT_CORRECTION_SOURCE": "TIRS",
          "TRUNCATION_OLI": "UPPER",
          "UTM_ZONE": 28,
          "WRS_PATH": 1,
          "WRS_ROW": 4,
          "system:asset_size": 1209655486,
          "system:footprint": {
           "coordinates": [
            [
             -16.532820311928425,
             77.01162736385734
            ],
            [
             -16.016896830234735,
             76.89849975350403
            ],
            [
             -15.924919583788045,
             76.87830545188098
            ],
            [
             -15.914540945346218,
             76.88025209195186
            ],
            [
             -15.486472426230305,
             76.97835132542977
            ],
            [
             -15.090135021817444,
             77.06731550364823
            ],
            [
             -14.573111035858886,
             77.1807588417077
            ],
            [
             -14.31214257744534,
             77.23701563005172
            ],
            [
             -11.059391231426432,
             77.88026737913762
            ],
            [
             -10.631587254444666,
             77.95757488211302
            ],
            [
             -10.143806845538577,
             78.04380105445576
            ],
            [
             -9.983630861915467,
             78.07178860776065
            ],
            [
             -9.983250762318756,
             78.07270329653012
            ],
            [
             -11.185797633699355,
             78.3589848662688
            ],
            [
             -15.459987724703813,
             79.24013565937442
            ],
            [
             -15.996261956526894,
             79.3373719884439
            ],
            [
             -16.152672540869876,
             79.30770913917273
            ],
            [
             -19.169564935359162,
             78.68107541137876
            ],
            [
             -21.87147550128272,
             78.02622472944982
            ],
            [
             -21.735138372429407,
             78.00345342738997
            ],
            [
             -18.962739352883307,
             77.50675745350276
            ],
            [
             -16.532820311928425,
             77.01162736385734
            ]
           ],
           "type": "LinearRing"
          },
          "system:index": "LC08_001004_20140609",
          "system:time_start": 1402322883990
         },
         "type": "Image",
         "version": 1497590283899000
        },
        {
         "bands": [
          {
           "crs": "EPSG:32628",
           "crs_transform": [
            30,
            0,
            341085,
            0,
            -30,
            8807715
           ],
           "data_type": {
            "max": 65535,
            "min": 0,
            "precision": "int",
            "type": "PixelType"
           },
           "dimensions": [
            9161,
            9161
           ],
           "id": "B1"
          },
          {
           "crs": "EPSG:32628",
           "crs_transform": [
            30,
            0,
            341085,
            0,
            -30,
            8807715
           ],
           "data_type": {
            "max": 65535,
            "min": 0,
            "precision": "int",
            "type": "PixelType"
           },
           "dimensions": [
            9161,
            9161
           ],
           "id": "B2"
          },
          {
           "crs": "EPSG:32628",
           "crs_transform": [
            30,
            0,
            341085,
            0,
            -30,
            8807715
           ],
           "data_type": {
            "max": 65535,
            "min": 0,
            "precision": "int",
            "type": "PixelType"
           },
           "dimensions": [
            9161,
            9161
           ],
           "id": "B3"
          },
          {
           "crs": "EPSG:32628",
           "crs_transform": [
            30,
            0,
            341085,
            0,
            -30,
            8807715
           ],
           "data_type": {
            "max": 65535,
            "min": 0,
            "precision": "int",
            "type": "PixelType"
           },
           "dimensions": [
            9161,
            9161
           ],
           "id": "B4"
          },
          {
           "crs": "EPSG:32628",
           "crs_transform": [
            30,
            0,
            341085,
            0,
            -30,
            8807715
           ],
           "data_type": {
            "max": 65535,
            "min": 0,
            "precision": "int",
            "type": "PixelType"
           },
           "dimensions": [
            9161,
            9161
           ],
           "id": "B5"
          },
          {
           "crs": "EPSG:32628",
           "crs_transform": [
            30,
            0,
            341085,
            0,
            -30,
            8807715
           ],
           "data_type": {
            "max": 65535,
            "min": 0,
            "precision": "int",
            "type": "PixelType"
           },
           "dimensions": [
            9161,
            9161
           ],
           "id": "B6"
          },
          {
           "crs": "EPSG:32628",
           "crs_transform": [
            30,
            0,
            341085,
            0,
            -30,
            8807715
           ],
           "data_type": {
            "max": 65535,
            "min": 0,
            "precision": "int",
            "type": "PixelType"
           },
           "dimensions": [
            9161,
            9161
           ],
           "id": "B7"
          },
          {
           "crs": "EPSG:32628",
           "crs_transform": [
            15,
            0,
            341092.5,
            0,
            -15,
            8807707.5
           ],
           "data_type": {
            "max": 65535,
            "min": 0,
            "precision": "int",
            "type": "PixelType"
           },
           "dimensions": [
            18321,
            18321
           ],
           "id": "B8"
          },
          {
           "crs": "EPSG:32628",
           "crs_transform": [
            30,
            0,
            341085,
            0,
            -30,
            8807715
           ],
           "data_type": {
            "max": 65535,
            "min": 0,
            "precision": "int",
            "type": "PixelType"
           },
           "dimensions": [
            9161,
            9161
           ],
           "id": "B9"
          },
          {
           "crs": "EPSG:32628",
           "crs_transform": [
            30,
            0,
            341085,
            0,
            -30,
            8807715
           ],
           "data_type": {
            "max": 65535,
            "min": 0,
            "precision": "int",
            "type": "PixelType"
           },
           "dimensions": [
            9161,
            9161
           ],
           "id": "B10"
          },
          {
           "crs": "EPSG:32628",
           "crs_transform": [
            30,
            0,
            341085,
            0,
            -30,
            8807715
           ],
           "data_type": {
            "max": 65535,
            "min": 0,
            "precision": "int",
            "type": "PixelType"
           },
           "dimensions": [
            9161,
            9161
           ],
           "id": "B11"
          },
          {
           "crs": "EPSG:32628",
           "crs_transform": [
            30,
            0,
            341085,
            0,
            -30,
            8807715
           ],
           "data_type": {
            "max": 65535,
            "min": 0,
            "precision": "int",
            "type": "PixelType"
           },
           "dimensions": [
            9161,
            9161
           ],
           "id": "BQA"
          }
         ],
         "id": "LANDSAT/LC08/C01/T1/LC08_001004_20140625",
         "properties": {
          "BPF_NAME_OLI": "LO8BPF20140625140643_20140625144429.01",
          "BPF_NAME_TIRS": "LT8BPF20140625140249_20140625144522.01",
          "CLOUD_COVER": 97.22000122070312,
          "CLOUD_COVER_LAND": 78.80000305175781,
          "COLLECTION_CATEGORY": "T1",
          "COLLECTION_NUMBER": 1,
          "CPF_NAME": "LC08CPF_20140401_20140630_01.01",
          "DATA_TYPE": "L1TP",
          "DATE_ACQUIRED": "2014-06-25",
          "DATUM": "WGS84",
          "EARTH_SUN_DISTANCE": 1.0164824724197388,
          "ELEVATION_SOURCE": "GLS2000",
          "ELLIPSOID": "WGS84",
          "FILE_DATE": 1492795609000,
          "GEOMETRIC_RMSE_MODEL": 5.109000205993652,
          "GEOMETRIC_RMSE_MODEL_X": 3.8429999351501465,
          "GEOMETRIC_RMSE_MODEL_Y": 3.367000102996826,
          "GRID_CELL_SIZE_PANCHROMATIC": 15,
          "GRID_CELL_SIZE_REFLECTIVE": 30,
          "GRID_CELL_SIZE_THERMAL": 30,
          "GROUND_CONTROL_POINTS_MODEL": 18,
          "GROUND_CONTROL_POINTS_VERSION": 4,
          "IMAGE_QUALITY_OLI": 9,
          "IMAGE_QUALITY_TIRS": 9,
          "K1_CONSTANT_BAND_10": 774.8853149414062,
          "K1_CONSTANT_BAND_11": 480.8883056640625,
          "K2_CONSTANT_BAND_10": 1321.078857421875,
          "K2_CONSTANT_BAND_11": 1201.1441650390625,
          "LANDSAT_PRODUCT_ID": "LC08_L1TP_001004_20140625_20170421_01_T1",
          "LANDSAT_SCENE_ID": "LC80010042014176LGN01",
          "MAP_PROJECTION": "UTM",
          "NADIR_OFFNADIR": "NADIR",
          "ORIENTATION": "NORTH_UP",
          "PANCHROMATIC_LINES": 18321,
          "PANCHROMATIC_SAMPLES": 18321,
          "PROCESSING_SOFTWARE_VERSION": "LPGS_2.7.0",
          "RADIANCE_ADD_BAND_1": -60.75933837890625,
          "RADIANCE_ADD_BAND_10": 0.10000000149011612,
          "RADIANCE_ADD_BAND_11": 0.10000000149011612,
          "RADIANCE_ADD_BAND_2": -62.218299865722656,
          "RADIANCE_ADD_BAND_3": -57.333641052246094,
          "RADIANCE_ADD_BAND_4": -48.34695053100586,
          "RADIANCE_ADD_BAND_5": -29.585920333862305,
          "RADIANCE_ADD_BAND_6": -7.357749938964844,
          "RADIANCE_ADD_BAND_7": -2.4799599647521973,
          "RADIANCE_ADD_BAND_8": -54.71543884277344,
          "RADIANCE_ADD_BAND_9": -11.562849998474121,
          "RADIANCE_MULT_BAND_1": 0.012152000330388546,
          "RADIANCE_MULT_BAND_10": 0.00033420001273043454,
          "RADIANCE_MULT_BAND_11": 0.00033420001273043454,
          "RADIANCE_MULT_BAND_2": 0.012443999759852886,
          "RADIANCE_MULT_BAND_3": 0.011466999538242817,
          "RADIANCE_MULT_BAND_4": 0.009669399820268154,
          "RADIANCE_MULT_BAND_5": 0.0059171998873353004,
          "RADIANCE_MULT_BAND_6": 0.001471600029617548,
          "RADIANCE_MULT_BAND_7": 0.0004959899815730751,
          "RADIANCE_MULT_BAND_8": 0.010943000204861164,
          "RADIANCE_MULT_BAND_9": 0.00231259991414845,
          "REFLECTANCE_ADD_BAND_1": -0.10000000149011612,
          "REFLECTANCE_ADD_BAND_2": -0.10000000149011612,
          "REFLECTANCE_ADD_BAND_3": -0.10000000149011612,
          "REFLECTANCE_ADD_BAND_4": -0.10000000149011612,
          "REFLECTANCE_ADD_BAND_5": -0.10000000149011612,
          "REFLECTANCE_ADD_BAND_6": -0.10000000149011612,
          "REFLECTANCE_ADD_BAND_7": -0.10000000149011612,
          "REFLECTANCE_ADD_BAND_8": -0.10000000149011612,
          "REFLECTANCE_ADD_BAND_9": -0.10000000149011612,
          "REFLECTANCE_MULT_BAND_1": 1.9999999494757503e-05,
          "REFLECTANCE_MULT_BAND_2": 1.9999999494757503e-05,
          "REFLECTANCE_MULT_BAND_3": 1.9999999494757503e-05,
          "REFLECTANCE_MULT_BAND_4": 1.9999999494757503e-05,
          "REFLECTANCE_MULT_BAND_5": 1.9999999494757503e-05,
          "REFLECTANCE_MULT_BAND_6": 1.9999999494757503e-05,
          "REFLECTANCE_MULT_BAND_7": 1.9999999494757503e-05,
          "REFLECTANCE_MULT_BAND_8": 1.9999999494757503e-05,
          "REFLECTANCE_MULT_BAND_9": 1.9999999494757503e-05,
          "REFLECTIVE_LINES": 9161,
          "REFLECTIVE_SAMPLES": 9161,
          "REQUEST_ID": "0501704214494_00002",
          "RESAMPLING_OPTION": "CUBIC_CONVOLUTION",
          "RLUT_FILE_NAME": "LC08RLUT_20130211_20150302_01_11.h5",
          "ROLL_ANGLE": -0.0010000000474974513,
          "SATURATION_BAND_1": "N",
          "SATURATION_BAND_2": "N",
          "SATURATION_BAND_3": "N",
          "SATURATION_BAND_4": "N",
          "SATURATION_BAND_5": "N",
          "SATURATION_BAND_6": "N",
          "SATURATION_BAND_7": "N",
          "SATURATION_BAND_8": "N",
          "SATURATION_BAND_9": "N",
          "SCENE_CENTER_TIME": "14:08:05.8347650Z",
          "SENSOR_ID": "OLI_TIRS",
          "SPACECRAFT_ID": "LANDSAT_8",
          "STATION_ID": "LGN",
          "SUN_AZIMUTH": -162.6923370361328,
          "SUN_ELEVATION": 34.78704833984375,
          "TARGET_WRS_PATH": 1,
          "TARGET_WRS_ROW": 4,
          "THERMAL_LINES": 9161,
          "THERMAL_SAMPLES": 9161,
          "TIRS_SSM_MODEL": "ACTUAL",
          "TIRS_SSM_POSITION_STATUS": "NOMINAL",
          "TIRS_STRAY_LIGHT_CORRECTION_SOURCE": "TIRS",
          "TRUNCATION_OLI": "UPPER",
          "UTM_ZONE": 28,
          "WRS_PATH": 1,
          "WRS_ROW": 4,
          "system:asset_size": 1227751593,
          "system:footprint": {
           "coordinates": [
            [
             -15.188831292895825,
             77.04158925461839
            ],
            [
             -14.919183563904294,
             77.10147442028529
            ],
            [
             -14.598831891359353,
             77.17160317705297
            ],
            [
             -14.37684895798968,
             77.21956582393135
            ],
            [
             -11.35531957582032,
             77.82302572597496
            ],
            [
             -11.009243850530547,
             77.8865583393709
            ],
            [
             -10.452134325691118,
             77.98680046289584
            ],
            [
             -9.973903123384119,
             78.07099738193048
            ],
            [
             -12.064914054283664,
             78.55708263185464
            ],
            [
             -14.410577672564147,
             79.04167226551438
            ],
            [
             -15.987073345894744,
             79.33546386315469
            ],
            [
             -15.989846367946885,
             79.33545512239715
            ],
            [
             -16.041432225564574,
             79.32597570511531
            ],
            [
             -19.114928728778583,
             78.68944888404765
            ],
            [
             -21.860566858904576,
             78.0241818851013
            ],
            [
             -19.709011884052014,
             77.64721783297101
            ],
            [
             -16.849201072430244,
             77.0799142039345
            ],
            [
             -16.038677318746462,
             76.90379648383413
            ],
            [
             -15.914918930050245,
             76.87663353363568
            ],
            [
             -15.898733714557387,
             76.88000365143009
            ],
            [
             -15.597731436281428,
             76.94921814555798
            ],
            [
             -15.188831292895825,
             77.04158925461839
            ]
           ],
           "type": "LinearRing"
          },
          "system:index": "LC08_001004_20140625",
          "system:time_start": 1403705285830
         },
         "type": "Image",
         "version": 1497591901560000
        },
        {
         "bands": [
          {
           "crs": "EPSG:32628",
           "crs_transform": [
            30,
            0,
            341085,
            0,
            -30,
            8808015
           ],
           "data_type": {
            "max": 65535,
            "min": 0,
            "precision": "int",
            "type": "PixelType"
           },
           "dimensions": [
            9161,
            9161
           ],
           "id": "B1"
          },
          {
           "crs": "EPSG:32628",
           "crs_transform": [
            30,
            0,
            341085,
            0,
            -30,
            8808015
           ],
           "data_type": {
            "max": 65535,
            "min": 0,
            "precision": "int",
            "type": "PixelType"
           },
           "dimensions": [
            9161,
            9161
           ],
           "id": "B2"
          },
          {
           "crs": "EPSG:32628",
           "crs_transform": [
            30,
            0,
            341085,
            0,
            -30,
            8808015
           ],
           "data_type": {
            "max": 65535,
            "min": 0,
            "precision": "int",
            "type": "PixelType"
           },
           "dimensions": [
            9161,
            9161
           ],
           "id": "B3"
          },
          {
           "crs": "EPSG:32628",
           "crs_transform": [
            30,
            0,
            341085,
            0,
            -30,
            8808015
           ],
           "data_type": {
            "max": 65535,
            "min": 0,
            "precision": "int",
            "type": "PixelType"
           },
           "dimensions": [
            9161,
            9161
           ],
           "id": "B4"
          },
          {
           "crs": "EPSG:32628",
           "crs_transform": [
            30,
            0,
            341085,
            0,
            -30,
            8808015
           ],
           "data_type": {
            "max": 65535,
            "min": 0,
            "precision": "int",
            "type": "PixelType"
           },
           "dimensions": [
            9161,
            9161
           ],
           "id": "B5"
          },
          {
           "crs": "EPSG:32628",
           "crs_transform": [
            30,
            0,
            341085,
            0,
            -30,
            8808015
           ],
           "data_type": {
            "max": 65535,
            "min": 0,
            "precision": "int",
            "type": "PixelType"
           },
           "dimensions": [
            9161,
            9161
           ],
           "id": "B6"
          },
          {
           "crs": "EPSG:32628",
           "crs_transform": [
            30,
            0,
            341085,
            0,
            -30,
            8808015
           ],
           "data_type": {
            "max": 65535,
            "min": 0,
            "precision": "int",
            "type": "PixelType"
           },
           "dimensions": [
            9161,
            9161
           ],
           "id": "B7"
          },
          {
           "crs": "EPSG:32628",
           "crs_transform": [
            15,
            0,
            341092.5,
            0,
            -15,
            8808007.5
           ],
           "data_type": {
            "max": 65535,
            "min": 0,
            "precision": "int",
            "type": "PixelType"
           },
           "dimensions": [
            18321,
            18321
           ],
           "id": "B8"
          },
          {
           "crs": "EPSG:32628",
           "crs_transform": [
            30,
            0,
            341085,
            0,
            -30,
            8808015
           ],
           "data_type": {
            "max": 65535,
            "min": 0,
            "precision": "int",
            "type": "PixelType"
           },
           "dimensions": [
            9161,
            9161
           ],
           "id": "B9"
          },
          {
           "crs": "EPSG:32628",
           "crs_transform": [
            30,
            0,
            341085,
            0,
            -30,
            8808015
           ],
           "data_type": {
            "max": 65535,
            "min": 0,
            "precision": "int",
            "type": "PixelType"
           },
           "dimensions": [
            9161,
            9161
           ],
           "id": "B10"
          },
          {
           "crs": "EPSG:32628",
           "crs_transform": [
            30,
            0,
            341085,
            0,
            -30,
            8808015
           ],
           "data_type": {
            "max": 65535,
            "min": 0,
            "precision": "int",
            "type": "PixelType"
           },
           "dimensions": [
            9161,
            9161
           ],
           "id": "B11"
          },
          {
           "crs": "EPSG:32628",
           "crs_transform": [
            30,
            0,
            341085,
            0,
            -30,
            8808015
           ],
           "data_type": {
            "max": 65535,
            "min": 0,
            "precision": "int",
            "type": "PixelType"
           },
           "dimensions": [
            9161,
            9161
           ],
           "id": "BQA"
          }
         ],
         "id": "LANDSAT/LC08/C01/T1/LC08_001004_20140711",
         "properties": {
          "BPF_NAME_OLI": "LO8BPF20140711135854_20140711144438.01",
          "BPF_NAME_TIRS": "LT8BPF20140711135500_20140711144531.01",
          "CLOUD_COVER": 24.700000762939453,
          "CLOUD_COVER_LAND": 7.860000133514404,
          "COLLECTION_CATEGORY": "T1",
          "COLLECTION_NUMBER": 1,
          "CPF_NAME": "LC08CPF_20140701_20140930_01.01",
          "DATA_TYPE": "L1TP",
          "DATE_ACQUIRED": "2014-07-11",
          "DATUM": "WGS84",
          "EARTH_SUN_DISTANCE": 1.0165530443191528,
          "ELEVATION_SOURCE": "GLS2000",
          "ELLIPSOID": "WGS84",
          "FILE_DATE": 1492762928000,
          "GEOMETRIC_RMSE_MODEL": 6.3470001220703125,
          "GEOMETRIC_RMSE_MODEL_X": 3.6659998893737793,
          "GEOMETRIC_RMSE_MODEL_Y": 5.181000232696533,
          "GRID_CELL_SIZE_PANCHROMATIC": 15,
          "GRID_CELL_SIZE_REFLECTIVE": 30,
          "GRID_CELL_SIZE_THERMAL": 30,
          "GROUND_CONTROL_POINTS_MODEL": 38,
          "GROUND_CONTROL_POINTS_VERSION": 4,
          "IMAGE_QUALITY_OLI": 9,
          "IMAGE_QUALITY_TIRS": 9,
          "K1_CONSTANT_BAND_10": 774.8853149414062,
          "K1_CONSTANT_BAND_11": 480.8883056640625,
          "K2_CONSTANT_BAND_10": 1321.078857421875,
          "K2_CONSTANT_BAND_11": 1201.1441650390625,
          "LANDSAT_PRODUCT_ID": "LC08_L1TP_001004_20140711_20170421_01_T1",
          "LANDSAT_SCENE_ID": "LC80010042014192LGN01",
          "MAP_PROJECTION": "UTM",
          "NADIR_OFFNADIR": "NADIR",
          "ORIENTATION": "NORTH_UP",
          "PANCHROMATIC_LINES": 18321,
          "PANCHROMATIC_SAMPLES": 18321,
          "PROCESSING_SOFTWARE_VERSION": "LPGS_2.7.0",
          "RADIANCE_ADD_BAND_1": -60.750911712646484,
          "RADIANCE_ADD_BAND_10": 0.10000000149011612,
          "RADIANCE_ADD_BAND_11": 0.10000000149011612,
          "RADIANCE_ADD_BAND_2": -62.20967102050781,
          "RADIANCE_ADD_BAND_3": -57.325679779052734,
          "RADIANCE_ADD_BAND_4": -48.340240478515625,
          "RADIANCE_ADD_BAND_5": -29.581819534301758,
          "RADIANCE_ADD_BAND_6": -7.356729984283447,
          "RADIANCE_ADD_BAND_7": -2.479609966278076,
          "RADIANCE_ADD_BAND_8": -54.70785140991211,
          "RADIANCE_ADD_BAND_9": -11.561249732971191,
          "RADIANCE_MULT_BAND_1": 0.012149999849498272,
          "RADIANCE_MULT_BAND_10": 0.00033420001273043454,
          "RADIANCE_MULT_BAND_11": 0.00033420001273043454,
          "RADIANCE_MULT_BAND_2": 0.012442000210285187,
          "RADIANCE_MULT_BAND_3": 0.011464999988675117,
          "RADIANCE_MULT_BAND_4": 0.009668000042438507,
          "RADIANCE_MULT_BAND_5": 0.005916399881243706,
          "RADIANCE_MULT_BAND_6": 0.0014713000273332,
          "RADIANCE_MULT_BAND_7": 0.0004959200159646571,
          "RADIANCE_MULT_BAND_8": 0.010941999964416027,
          "RADIANCE_MULT_BAND_9": 0.0023121999111026525,
          "REFLECTANCE_ADD_BAND_1": -0.10000000149011612,
          "REFLECTANCE_ADD_BAND_2": -0.10000000149011612,
          "REFLECTANCE_ADD_BAND_3": -0.10000000149011612,
          "REFLECTANCE_ADD_BAND_4": -0.10000000149011612,
          "REFLECTANCE_ADD_BAND_5": -0.10000000149011612,
          "REFLECTANCE_ADD_BAND_6": -0.10000000149011612,
          "REFLECTANCE_ADD_BAND_7": -0.10000000149011612,
          "REFLECTANCE_ADD_BAND_8": -0.10000000149011612,
          "REFLECTANCE_ADD_BAND_9": -0.10000000149011612,
          "REFLECTANCE_MULT_BAND_1": 1.9999999494757503e-05,
          "REFLECTANCE_MULT_BAND_2": 1.9999999494757503e-05,
          "REFLECTANCE_MULT_BAND_3": 1.9999999494757503e-05,
          "REFLECTANCE_MULT_BAND_4": 1.9999999494757503e-05,
          "REFLECTANCE_MULT_BAND_5": 1.9999999494757503e-05,
          "REFLECTANCE_MULT_BAND_6": 1.9999999494757503e-05,
          "REFLECTANCE_MULT_BAND_7": 1.9999999494757503e-05,
          "REFLECTANCE_MULT_BAND_8": 1.9999999494757503e-05,
          "REFLECTANCE_MULT_BAND_9": 1.9999999494757503e-05,
          "REFLECTIVE_LINES": 9161,
          "REFLECTIVE_SAMPLES": 9161,
          "REQUEST_ID": "0501704203520_00002",
          "RESAMPLING_OPTION": "CUBIC_CONVOLUTION",
          "RLUT_FILE_NAME": "LC08RLUT_20130211_20150302_01_11.h5",
          "ROLL_ANGLE": -0.0010000000474974513,
          "SATURATION_BAND_1": "N",
          "SATURATION_BAND_2": "N",
          "SATURATION_BAND_3": "N",
          "SATURATION_BAND_4": "N",
          "SATURATION_BAND_5": "N",
          "SATURATION_BAND_6": "N",
          "SATURATION_BAND_7": "N",
          "SATURATION_BAND_8": "N",
          "SATURATION_BAND_9": "N",
          "SCENE_CENTER_TIME": "14:08:14.7184600Z",
          "SENSOR_ID": "OLI_TIRS",
          "SPACECRAFT_ID": "LANDSAT_8",
          "STATION_ID": "LGN",
          "SUN_AZIMUTH": -163.56349182128906,
          "SUN_ELEVATION": 33.51325607299805,
          "TARGET_WRS_PATH": 1,
          "TARGET_WRS_ROW": 4,
          "THERMAL_LINES": 9161,
          "THERMAL_SAMPLES": 9161,
          "TIRS_SSM_MODEL": "ACTUAL",
          "TIRS_SSM_POSITION_STATUS": "NOMINAL",
          "TIRS_STRAY_LIGHT_CORRECTION_SOURCE": "TIRS",
          "TRUNCATION_OLI": "UPPER",
          "UTM_ZONE": 28,
          "WRS_PATH": 1,
          "WRS_ROW": 4,
          "system:asset_size": 1214978106,
          "system:footprint": {
           "coordinates": [
            [
             -14.551526641676057,
             77.18550893870116
            ],
            [
             -14.256712980178742,
             77.24896472864494
            ],
            [
             -11.12462257405803,
             77.86865622727558
            ],
            [
             -10.668691852266347,
             77.95127821086437
            ],
            [
             -10.128941797661827,
             78.04678110496643
            ],
            [
             -9.983463939353795,
             78.07219035554523
            ],
            [
             -9.983251037375407,
             78.07270319860731
            ],
            [
             -10.337465023207578,
             78.15929233692638
            ],
            [
             -15.197847433311154,
             79.1916254427842
            ],
            [
             -15.995958266397333,
             79.33731767505732
            ],
            [
             -16.000917700556844,
             79.33730196044893
            ],
            [
             -19.09630646844924,
             78.69785652983951
            ],
            [
             -21.869547945550973,
             78.02674592508448
            ],
            [
             -21.86924785230197,
             78.02621708340638
            ],
            [
             -21.81063959250062,
             78.01624056040963
            ],
            [
             -19.567221719123577,
             77.62117935220952
            ],
            [
             -16.00378254635045,
             76.89602268541108
            ],
            [
             -15.92289363265909,
             76.87825664509208
            ],
            [
             -15.15881029676605,
             77.05204213587274
            ],
            [
             -14.551526641676057,
             77.18550893870116
            ]
           ],
           "type": "LinearRing"
          },
          "system:index": "LC08_001004_20140711",
          "system:time_start": 1405087694720
         },
         "type": "Image",
         "version": 1497593277547000
        },
        {
         "bands": [
          {
           "crs": "EPSG:32628",
           "crs_transform": [
            30,
            0,
            341085,
            0,
            -30,
            8808015
           ],
           "data_type": {
            "max": 65535,
            "min": 0,
            "precision": "int",
            "type": "PixelType"
           },
           "dimensions": [
            9161,
            9161
           ],
           "id": "B1"
          },
          {
           "crs": "EPSG:32628",
           "crs_transform": [
            30,
            0,
            341085,
            0,
            -30,
            8808015
           ],
           "data_type": {
            "max": 65535,
            "min": 0,
            "precision": "int",
            "type": "PixelType"
           },
           "dimensions": [
            9161,
            9161
           ],
           "id": "B2"
          },
          {
           "crs": "EPSG:32628",
           "crs_transform": [
            30,
            0,
            341085,
            0,
            -30,
            8808015
           ],
           "data_type": {
            "max": 65535,
            "min": 0,
            "precision": "int",
            "type": "PixelType"
           },
           "dimensions": [
            9161,
            9161
           ],
           "id": "B3"
          },
          {
           "crs": "EPSG:32628",
           "crs_transform": [
            30,
            0,
            341085,
            0,
            -30,
            8808015
           ],
           "data_type": {
            "max": 65535,
            "min": 0,
            "precision": "int",
            "type": "PixelType"
           },
           "dimensions": [
            9161,
            9161
           ],
           "id": "B4"
          },
          {
           "crs": "EPSG:32628",
           "crs_transform": [
            30,
            0,
            341085,
            0,
            -30,
            8808015
           ],
           "data_type": {
            "max": 65535,
            "min": 0,
            "precision": "int",
            "type": "PixelType"
           },
           "dimensions": [
            9161,
            9161
           ],
           "id": "B5"
          },
          {
           "crs": "EPSG:32628",
           "crs_transform": [
            30,
            0,
            341085,
            0,
            -30,
            8808015
           ],
           "data_type": {
            "max": 65535,
            "min": 0,
            "precision": "int",
            "type": "PixelType"
           },
           "dimensions": [
            9161,
            9161
           ],
           "id": "B6"
          },
          {
           "crs": "EPSG:32628",
           "crs_transform": [
            30,
            0,
            341085,
            0,
            -30,
            8808015
           ],
           "data_type": {
            "max": 65535,
            "min": 0,
            "precision": "int",
            "type": "PixelType"
           },
           "dimensions": [
            9161,
            9161
           ],
           "id": "B7"
          },
          {
           "crs": "EPSG:32628",
           "crs_transform": [
            15,
            0,
            341092.5,
            0,
            -15,
            8808007.5
           ],
           "data_type": {
            "max": 65535,
            "min": 0,
            "precision": "int",
            "type": "PixelType"
           },
           "dimensions": [
            18321,
            18321
           ],
           "id": "B8"
          },
          {
           "crs": "EPSG:32628",
           "crs_transform": [
            30,
            0,
            341085,
            0,
            -30,
            8808015
           ],
           "data_type": {
            "max": 65535,
            "min": 0,
            "precision": "int",
            "type": "PixelType"
           },
           "dimensions": [
            9161,
            9161
           ],
           "id": "B9"
          },
          {
           "crs": "EPSG:32628",
           "crs_transform": [
            30,
            0,
            341085,
            0,
            -30,
            8808015
           ],
           "data_type": {
            "max": 65535,
            "min": 0,
            "precision": "int",
            "type": "PixelType"
           },
           "dimensions": [
            9161,
            9161
           ],
           "id": "B10"
          },
          {
           "crs": "EPSG:32628",
           "crs_transform": [
            30,
            0,
            341085,
            0,
            -30,
            8808015
           ],
           "data_type": {
            "max": 65535,
            "min": 0,
            "precision": "int",
            "type": "PixelType"
           },
           "dimensions": [
            9161,
            9161
           ],
           "id": "B11"
          },
          {
           "crs": "EPSG:32628",
           "crs_transform": [
            30,
            0,
            341085,
            0,
            -30,
            8808015
           ],
           "data_type": {
            "max": 65535,
            "min": 0,
            "precision": "int",
            "type": "PixelType"
           },
           "dimensions": [
            9161,
            9161
           ],
           "id": "BQA"
          }
         ],
         "id": "LANDSAT/LC08/C01/T1/LC08_001004_20140727",
         "properties": {
          "BPF_NAME_OLI": "LO8BPF20140727135945_20140727144441.01",
          "BPF_NAME_TIRS": "LT8BPF20140727135551_20140727144534.01",
          "CLOUD_COVER": 84.18000030517578,
          "CLOUD_COVER_LAND": 87.31999969482422,
          "COLLECTION_CATEGORY": "T1",
          "COLLECTION_NUMBER": 1,
          "CPF_NAME": "LC08CPF_20140701_20140930_01.01",
          "DATA_TYPE": "L1TP",
          "DATE_ACQUIRED": "2014-07-27",
          "DATUM": "WGS84",
          "EARTH_SUN_DISTANCE": 1.0155359506607056,
          "ELEVATION_SOURCE": "GLS2000",
          "ELLIPSOID": "WGS84",
          "FILE_DATE": 1517246068000,
          "GEOMETRIC_RMSE_MODEL": 8.878000259399414,
          "GEOMETRIC_RMSE_MODEL_X": 6.114999771118164,
          "GEOMETRIC_RMSE_MODEL_Y": 6.435999870300293,
          "GRID_CELL_SIZE_PANCHROMATIC": 15,
          "GRID_CELL_SIZE_REFLECTIVE": 30,
          "GRID_CELL_SIZE_THERMAL": 30,
          "GROUND_CONTROL_POINTS_MODEL": 11,
          "GROUND_CONTROL_POINTS_VERSION": 4,
          "IMAGE_QUALITY_OLI": 9,
          "IMAGE_QUALITY_TIRS": 9,
          "K1_CONSTANT_BAND_10": 774.8853149414062,
          "K1_CONSTANT_BAND_11": 480.8883056640625,
          "K2_CONSTANT_BAND_10": 1321.078857421875,
          "K2_CONSTANT_BAND_11": 1201.1441650390625,
          "LANDSAT_PRODUCT_ID": "LC08_L1TP_001004_20140727_20180129_01_T1",
          "LANDSAT_SCENE_ID": "LC80010042014208LGN02",
          "MAP_PROJECTION": "UTM",
          "NADIR_OFFNADIR": "NADIR",
          "ORIENTATION": "NORTH_UP",
          "PANCHROMATIC_LINES": 18321,
          "PANCHROMATIC_SAMPLES": 18321,
          "PROCESSING_SOFTWARE_VERSION": "LPGS_13.0.0",
          "RADIANCE_ADD_BAND_1": -60.87266159057617,
          "RADIANCE_ADD_BAND_10": 0.10000000149011612,
          "RADIANCE_ADD_BAND_11": 0.10000000149011612,
          "RADIANCE_ADD_BAND_2": -62.3343505859375,
          "RADIANCE_ADD_BAND_3": -57.44057083129883,
          "RADIANCE_ADD_BAND_4": -48.437129974365234,
          "RADIANCE_ADD_BAND_5": -29.641109466552734,
          "RADIANCE_ADD_BAND_6": -7.371469974517822,
          "RADIANCE_ADD_BAND_7": -2.4845800399780273,
          "RADIANCE_ADD_BAND_8": -54.817501068115234,
          "RADIANCE_ADD_BAND_9": -11.584420204162598,
          "RADIANCE_MULT_BAND_1": 0.01217500027269125,
          "RADIANCE_MULT_BAND_10": 0.00033420001273043454,
          "RADIANCE_MULT_BAND_11": 0.00033420001273043454,
          "RADIANCE_MULT_BAND_2": 0.01246699970215559,
          "RADIANCE_MULT_BAND_3": 0.011487999930977821,
          "RADIANCE_MULT_BAND_4": 0.009687400422990322,
          "RADIANCE_MULT_BAND_5": 0.005928200203925371,
          "RADIANCE_MULT_BAND_6": 0.00147430005017668,
          "RADIANCE_MULT_BAND_7": 0.0004969200235791504,
          "RADIANCE_MULT_BAND_8": 0.010963000357151031,
          "RADIANCE_MULT_BAND_9": 0.002316900063306093,
          "REFLECTANCE_ADD_BAND_1": -0.10000000149011612,
          "REFLECTANCE_ADD_BAND_2": -0.10000000149011612,
          "REFLECTANCE_ADD_BAND_3": -0.10000000149011612,
          "REFLECTANCE_ADD_BAND_4": -0.10000000149011612,
          "REFLECTANCE_ADD_BAND_5": -0.10000000149011612,
          "REFLECTANCE_ADD_BAND_6": -0.10000000149011612,
          "REFLECTANCE_ADD_BAND_7": -0.10000000149011612,
          "REFLECTANCE_ADD_BAND_8": -0.10000000149011612,
          "REFLECTANCE_ADD_BAND_9": -0.10000000149011612,
          "REFLECTANCE_MULT_BAND_1": 1.9999999494757503e-05,
          "REFLECTANCE_MULT_BAND_2": 1.9999999494757503e-05,
          "REFLECTANCE_MULT_BAND_3": 1.9999999494757503e-05,
          "REFLECTANCE_MULT_BAND_4": 1.9999999494757503e-05,
          "REFLECTANCE_MULT_BAND_5": 1.9999999494757503e-05,
          "REFLECTANCE_MULT_BAND_6": 1.9999999494757503e-05,
          "REFLECTANCE_MULT_BAND_7": 1.9999999494757503e-05,
          "REFLECTANCE_MULT_BAND_8": 1.9999999494757503e-05,
          "REFLECTANCE_MULT_BAND_9": 1.9999999494757503e-05,
          "REFLECTIVE_LINES": 9161,
          "REFLECTIVE_SAMPLES": 9161,
          "REQUEST_ID": "0501801290032_00002",
          "RESAMPLING_OPTION": "CUBIC_CONVOLUTION",
          "RLUT_FILE_NAME": "LC08RLUT_20130211_20150302_01_11.h5",
          "ROLL_ANGLE": -0.0010000000474974513,
          "SATURATION_BAND_1": "N",
          "SATURATION_BAND_2": "N",
          "SATURATION_BAND_3": "N",
          "SATURATION_BAND_4": "N",
          "SATURATION_BAND_5": "N",
          "SATURATION_BAND_6": "N",
          "SATURATION_BAND_7": "N",
          "SATURATION_BAND_8": "N",
          "SATURATION_BAND_9": "N",
          "SCENE_CENTER_TIME": "14:08:17.8884740Z",
          "SENSOR_ID": "OLI_TIRS",
          "SPACECRAFT_ID": "LANDSAT_8",
          "STATION_ID": "LGN",
          "SUN_AZIMUTH": -164.03842163085938,
          "SUN_ELEVATION": 30.611223220825195,
          "TARGET_WRS_PATH": 1,
          "TARGET_WRS_ROW": 4,
          "THERMAL_LINES": 9161,
          "THERMAL_SAMPLES": 9161,
          "TIRS_SSM_MODEL": "ACTUAL",
          "TIRS_SSM_POSITION_STATUS": "NOMINAL",
          "TIRS_STRAY_LIGHT_CORRECTION_SOURCE": "TIRS",
          "TRUNCATION_OLI": "UPPER",
          "UTM_ZONE": 28,
          "WRS_PATH": 1,
          "WRS_ROW": 4,
          "system:asset_size": 1288853669,
          "system:footprint": {
           "coordinates": [
            [
             -14.771888187882942,
             77.13727292852144
            ],
            [
             -14.422695849276181,
             77.21308273727637
            ],
            [
             -14.160418967759083,
             77.26924581697392
            ],
            [
             -11.155216241990592,
             77.86301960218533
            ],
            [
             -10.691434585155815,
             77.94718207400419
            ],
            [
             -10.10792576048865,
             78.05046300939917
            ],
            [
             -9.983463939353795,
             78.07219035554523
            ],
            [
             -9.983250762318756,
             78.07270329653012
            ],
            [
             -11.148561674692685,
             78.35041067564384
            ],
            [
             -15.99813644225055,
             79.33731076460694
            ],
            [
             -16.003095910520816,
             79.33729501315707
            ],
            [
             -19.101146753744313,
             78.69698156088734
            ],
            [
             -21.871491245625315,
             78.02622557484361
            ],
            [
             -21.836260881894805,
             78.02008277463132
            ],
            [
             -19.015439760460293,
             77.51689268295758
            ],
            [
             -16.011485545214146,
             76.8977107427941
            ],
            [
             -15.922099917071398,
             76.87808191672026
            ],
            [
             -15.763941643341445,
             76.91458387764469
            ],
            [
             -15.261582144636845,
             77.02869434306729
            ],
            [
             -14.771888187882942,
             77.13727292852144
            ]
           ],
           "type": "LinearRing"
          },
          "system:index": "LC08_001004_20140727",
          "system:time_end": 1406470097888,
          "system:time_start": 1406470097888
         },
         "type": "Image",
         "version": 1580687782787701
        }
       ],
       "id": "LANDSAT/LC08/C01/T1",
       "properties": {
        "date_range": [
         1365638400000,
         1641081600000
        ],
        "description": "<p>empty</p><p><b>Provider: <a href=\"https://landsat.usgs.gov/\">USGS</a></b><br><p><b>Revisit Interval</b><br>\n  16 days\n</p><p><b>Bands</b><table class=\"eecat\"><tr><th scope=\"col\">Name</th><th scope=\"col\">Pixel Size</th><th scope=\"col\">Wavelength</th><th scope=\"col\">Description</th></tr><tr><td>B1</td><td>\n      30 meters\n</td><td>0.43 - 0.45 µm</td><td><p>Coastal aerosol</p></td></tr><tr><td>B2</td><td>\n      30 meters\n</td><td>0.45 - 0.51 µm</td><td><p>Blue</p></td></tr><tr><td>B3</td><td>\n      30 meters\n</td><td>0.53 - 0.59 µm</td><td><p>Green</p></td></tr><tr><td>B4</td><td>\n      30 meters\n</td><td>0.64 - 0.67 µm</td><td><p>Red</p></td></tr><tr><td>B5</td><td>\n      30 meters\n</td><td>0.85 - 0.88 µm</td><td><p>Near infrared</p></td></tr><tr><td>B6</td><td>\n      30 meters\n</td><td>1.57 - 1.65 µm</td><td><p>Shortwave infrared 1</p></td></tr><tr><td>B7</td><td>\n      30 meters\n</td><td>2.11 - 2.29 µm</td><td><p>Shortwave infrared 2</p></td></tr><tr><td>B8</td><td>\n      15 meters\n</td><td>0.52 - 0.90 µm</td><td><p>Band 8 Panchromatic</p></td></tr><tr><td>B9</td><td>\n      15 meters\n</td><td>1.36 - 1.38 µm</td><td><p>Cirrus</p></td></tr><tr><td>B10</td><td>\n      30 meters\n</td><td>10.60 - 11.19 µm</td><td><p>Thermal infrared 1, resampled from 100m to 30m</p></td></tr><tr><td>B11</td><td>\n      30 meters\n</td><td>11.50 - 12.51 µm</td><td><p>Thermal infrared 2, resampled from 100m to 30m</p></td></tr><tr><td>BQA</td><td>\n      30 meters\n</td><td></td><td><p>Landsat Collection 1 QA Bitmask (<a href=\"https://www.usgs.gov/land-resources/nli/landsat/landsat-collection-1-level-1-quality-assessment-band\">See Landsat QA page</a>)</p></td></tr><tr><td colspan=100>\n      Bitmask for BQA\n<ul><li>\n          Bit 0: Designated Fill\n<ul><li>0: No</li><li>1: Yes</li></ul></li><li>\n          Bit 1: Terrain Occlusion\n<ul><li>0: No</li><li>1: Yes</li></ul></li><li>\n          Bits 2-3: Radiometric Saturation\n<ul><li>0: No bands contain saturation</li><li>1: 1-2 bands contain saturation</li><li>2: 3-4 bands contain saturation</li><li>3: 5 or more bands contain saturation</li></ul></li><li>\n          Bit 4: Cloud\n<ul><li>0: No</li><li>1: Yes</li></ul></li><li>\n          Bits 5-6: Cloud Confidence\n<ul><li>0: Not Determined / Condition does not exist.</li><li>1: Low, (0-33 percent confidence)</li><li>2: Medium, (34-66 percent confidence)</li><li>3: High, (67-100 percent confidence)</li></ul></li><li>\n          Bits 7-8: Cloud Shadow Confidence\n<ul><li>0: Not Determined / Condition does not exist.</li><li>1: Low, (0-33 percent confidence)</li><li>2: Medium, (34-66 percent confidence)</li><li>3: High, (67-100 percent confidence)</li></ul></li><li>\n          Bits 9-10: Snow / Ice Confidence\n<ul><li>0: Not Determined / Condition does not exist.</li><li>1: Low, (0-33 percent confidence)</li><li>2: Medium, (34-66 percent confidence)</li><li>3: High, (67-100 percent confidence)</li></ul></li><li>\n          Bits 11-12: Cirrus Confidence\n<ul><li>0: Not Determined / Condition does not exist.</li><li>1: Low, (0-33 percent confidence)</li><li>2: Medium, (34-66 percent confidence)</li><li>3: High, (67-100 percent confidence)</li></ul></li></ul></td></tr></table><p><b>Image Properties</b><table class=\"eecat\"><tr><th scope=\"col\">Name</th><th scope=\"col\">Type</th><th scope=\"col\">Description</th></tr><tr><td>BPF_NAME_OLI</td><td>STRING</td><td><p>The file name for the Bias Parameter File (BPF) used to generate the product, if applicable. This only applies to products that contain OLI bands.</p></td></tr><tr><td>BPF_NAME_TIRS</td><td>STRING</td><td><p>The file name for the Bias Parameter File (BPF) used to generate the product, if applicable. This only applies to products that contain TIRS bands.</p></td></tr><tr><td>CLOUD_COVER</td><td>DOUBLE</td><td><p>Percentage cloud cover (0-100), -1 = not calculated.</p></td></tr><tr><td>CLOUD_COVER_LAND</td><td>DOUBLE</td><td><p>Percentage cloud cover over land (0-100), -1 = not calculated.</p></td></tr><tr><td>COLLECTION_CATEGORY</td><td>STRING</td><td><p>Tier of scene. (T1 or T2)</p></td></tr><tr><td>COLLECTION_NUMBER</td><td>DOUBLE</td><td><p>Number of collection.</p></td></tr><tr><td>CPF_NAME</td><td>STRING</td><td><p>Calibration parameter file name.</p></td></tr><tr><td>DATA_TYPE</td><td>STRING</td><td><p>Data type identifier. (L1T or L1G)</p></td></tr><tr><td>DATE_ACQUIRED</td><td>STRING</td><td><p>Image acquisition date. &quot;YYYY-MM-DD&quot;</p></td></tr><tr><td>DATUM</td><td>STRING</td><td><p>Datum used in image creation.</p></td></tr><tr><td>EARTH_SUN_DISTANCE</td><td>DOUBLE</td><td><p>Earth sun distance in astronomical units (AU).</p></td></tr><tr><td>ELEVATION_SOURCE</td><td>STRING</td><td><p>Elevation model source used for standard terrain corrected (L1T) products.</p></td></tr><tr><td>ELLIPSOID</td><td>STRING</td><td><p>Ellipsoid used in image creation.</p></td></tr><tr><td>EPHEMERIS_TYPE</td><td>STRING</td><td><p>Ephemeris data type used to perform geometric correction. (Definitive or Predictive)</p></td></tr><tr><td>FILE_DATE</td><td>DOUBLE</td><td><p>File date in milliseconds since epoch.</p></td></tr><tr><td>GEOMETRIC_RMSE_MODEL</td><td>DOUBLE</td><td><p>Combined Root Mean Square Error (RMSE) of the geometric residuals\n(metres) in both across-track and along-track directions\nmeasured on the GCPs used in geometric precision correction.\nNot present in L1G products.</p></td></tr><tr><td>GEOMETRIC_RMSE_MODEL_X</td><td>DOUBLE</td><td><p>RMSE of the X direction geometric residuals (in metres) measured\non the GCPs used in geometric precision correction. Not present in\nL1G products.</p></td></tr><tr><td>GEOMETRIC_RMSE_MODEL_Y</td><td>DOUBLE</td><td><p>RMSE of the Y direction geometric residuals (in metres) measured\non the GCPs used in geometric precision correction. Not present in\nL1G products.</p></td></tr><tr><td>GRID_CELL_SIZE_PANCHROMATIC</td><td>DOUBLE</td><td><p>Grid cell size used in creating the image for the panchromatic band.</p></td></tr><tr><td>GRID_CELL_SIZE_REFLECTIVE</td><td>DOUBLE</td><td><p>Grid cell size used in creating the image for the reflective band.</p></td></tr><tr><td>GRID_CELL_SIZE_THERMAL</td><td>DOUBLE</td><td><p>Grid cell size used in creating the image for the thermal band.</p></td></tr><tr><td>GROUND_CONTROL_POINTS_MODEL</td><td>DOUBLE</td><td><p>The number of ground control points used. Not used in L1GT products.\nValues: 0 - 999 (0 is used for L1T products that have used\nMulti-scene refinement).</p></td></tr><tr><td>GROUND_CONTROL_POINTS_VERSION</td><td>DOUBLE</td><td><p>The number of ground control points used in the verification of\nthe terrain corrected product. Values: -1 to 1615 (-1 = not available)</p></td></tr><tr><td>IMAGE_QUALITY</td><td>DOUBLE</td><td><p>Image quality, 0 = worst, 9 = best, -1 = quality not calculated</p></td></tr><tr><td>IMAGE_QUALITY_OLI</td><td>DOUBLE</td><td><p>The composite image quality for the OLI bands. Values: 9 = Best. 1 = Worst. 0 = Image quality not calculated. This parameter is only present if OLI bands are present in the product.</p></td></tr><tr><td>IMAGE_QUALITY_TIRS</td><td>DOUBLE</td><td><p>The composite image quality for the TIRS bands. Values: 9 = Best. 1 = Worst. 0 = Image quality not calculated. This parameter is only present if OLI bands are present in the product.</p></td></tr><tr><td>K1_CONSTANT_BAND_10</td><td>DOUBLE</td><td><p>Calibration K1 constant for Band 10 radiance to temperature conversion.</p></td></tr><tr><td>K1_CONSTANT_BAND_11</td><td>DOUBLE</td><td><p>Calibration K1 constant for Band 11 radiance to temperature conversion.</p></td></tr><tr><td>K2_CONSTANT_BAND_10</td><td>DOUBLE</td><td><p>Calibration K2 constant for Band 10 radiance to temperature conversion.</p></td></tr><tr><td>K2_CONSTANT_BAND_11</td><td>DOUBLE</td><td><p>Calibration K2 constant for Band 11 radiance to temperature conversion.</p></td></tr><tr><td>LANDSAT_PRODUCT_ID</td><td>STRING</td><td><p>The naming convention of each Landsat Collection 1 Level-1 image based\non acquisition parameters and processing parameters.</p><p>Format: LXSS_LLLL_PPPRRR_YYYYMMDD_yyyymmdd_CC_TX</p><ul><li>L = Landsat</li><li>X = Sensor (O = Operational Land Imager,\nT = Thermal Infrared Sensor, C = Combined OLI/TIRS)</li><li>SS = Satellite (08 = Landsat 8)</li><li>LLLL = Processing Correction Level (L1TP = precision and terrain,\nL1GT = systematic terrain, L1GS = systematic)</li><li>PPP = WRS Path</li><li>RRR = WRS Row</li><li>YYYYMMDD = Acquisition Date expressed in Year, Month, Day</li><li>yyyymmdd = Processing Date expressed in Year, Month, Day</li><li>CC = Collection Number (01)</li><li>TX = Collection Category (RT = Real Time, T1 = Tier 1, T2 = Tier 2)</li></ul></td></tr><tr><td>LANDSAT_SCENE_ID</td><td>STRING</td><td><p>The Pre-Collection naming convention of each image is based on acquisition\nparameters. This was the naming convention used prior to Collection 1.</p><p>Format: LXSPPPRRRYYYYDDDGSIVV</p><ul><li>L = Landsat</li><li>X = Sensor (O = Operational Land Imager, T = Thermal Infrared Sensor, C = Combined OLI/TIRS)</li><li>S = Satellite (08 = Landsat 8)</li><li>PPP = WRS Path</li><li>RRR = WRS Row</li><li>YYYY = Year of Acquisition</li><li>DDD = Julian Day of Acquisition</li><li>GSI = Ground Station Identifier</li><li>VV = Version</li></ul></td></tr><tr><td>MAP_PROJECTION</td><td>STRING</td><td><p>Projection used to represent the 3-dimensional surface of the earth for the Level-1 product.</p></td></tr><tr><td>NADIR_OFFNADIR</td><td>STRING</td><td><p>Nadir or Off-Nadir condition of the scene.</p></td></tr><tr><td>ORIENTATION</td><td>STRING</td><td><p>Orientation used in creating the image. Values: NOMINAL = Nominal Path, NORTH_UP = North Up, TRUE_NORTH = True North, USER = User</p></td></tr><tr><td>PANCHROMATIC_LINES</td><td>DOUBLE</td><td><p>Number of product lines for the panchromatic band.</p></td></tr><tr><td>PANCHROMATIC_SAMPLES</td><td>DOUBLE</td><td><p>Number of product samples for the panchromatic bands.</p></td></tr><tr><td>PROCESSING_SOFTWARE_VERSION</td><td>STRING</td><td><p>Name and version of the processing software used to generate the L1 product.</p></td></tr><tr><td>RADIANCE_ADD_BAND_1</td><td>DOUBLE</td><td><p>Additive rescaling factor used to convert calibrated DN to radiance for Band 1.</p></td></tr><tr><td>RADIANCE_ADD_BAND_10</td><td>DOUBLE</td><td><p>Additive rescaling factor used to convert calibrated DN to radiance for Band 10.</p></td></tr><tr><td>RADIANCE_ADD_BAND_11</td><td>DOUBLE</td><td><p>Additive rescaling factor used to convert calibrated DN to radiance for Band 11.</p></td></tr><tr><td>RADIANCE_ADD_BAND_2</td><td>DOUBLE</td><td><p>Additive rescaling factor used to convert calibrated DN to radiance for Band 2.</p></td></tr><tr><td>RADIANCE_ADD_BAND_3</td><td>DOUBLE</td><td><p>Additive rescaling factor used to convert calibrated DN to radiance for Band 3.</p></td></tr><tr><td>RADIANCE_ADD_BAND_4</td><td>DOUBLE</td><td><p>Additive rescaling factor used to convert calibrated DN to radiance for Band 4.</p></td></tr><tr><td>RADIANCE_ADD_BAND_5</td><td>DOUBLE</td><td><p>Additive rescaling factor used to convert calibrated DN to radiance for Band 5.</p></td></tr><tr><td>RADIANCE_ADD_BAND_6</td><td>DOUBLE</td><td><p>Additive rescaling factor used to convert calibrated DN to radiance for Band 6.</p></td></tr><tr><td>RADIANCE_ADD_BAND_7</td><td>DOUBLE</td><td><p>Additive rescaling factor used to convert calibrated DN to radiance for Band 7.</p></td></tr><tr><td>RADIANCE_ADD_BAND_8</td><td>DOUBLE</td><td><p>Additive rescaling factor used to convert calibrated DN to radiance for Band 8.</p></td></tr><tr><td>RADIANCE_ADD_BAND_9</td><td>DOUBLE</td><td><p>Additive rescaling factor used to convert calibrated DN to radiance for Band 9.</p></td></tr><tr><td>RADIANCE_MULT_BAND_1</td><td>DOUBLE</td><td><p>Multiplicative rescaling factor used to convert calibrated Band 1 DN to radiance.</p></td></tr><tr><td>RADIANCE_MULT_BAND_10</td><td>DOUBLE</td><td><p>Multiplicative rescaling factor used to convert calibrated Band 10 DN to radiance.</p></td></tr><tr><td>RADIANCE_MULT_BAND_11</td><td>DOUBLE</td><td><p>Multiplicative rescaling factor used to convert calibrated Band 11 DN to radiance.</p></td></tr><tr><td>RADIANCE_MULT_BAND_2</td><td>DOUBLE</td><td><p>Multiplicative rescaling factor used to convert calibrated Band 2 DN to radiance.</p></td></tr><tr><td>RADIANCE_MULT_BAND_3</td><td>DOUBLE</td><td><p>Multiplicative rescaling factor used to convert calibrated Band 3 DN to radiance.</p></td></tr><tr><td>RADIANCE_MULT_BAND_4</td><td>DOUBLE</td><td><p>Multiplicative rescaling factor used to convert calibrated Band 4 DN to radiance.</p></td></tr><tr><td>RADIANCE_MULT_BAND_5</td><td>DOUBLE</td><td><p>Multiplicative rescaling factor used to convert calibrated Band 5 DN to radiance.</p></td></tr><tr><td>RADIANCE_MULT_BAND_6</td><td>DOUBLE</td><td><p>Multiplicative rescaling factor used to convert calibrated Band 6 DN to radiance.</p></td></tr><tr><td>RADIANCE_MULT_BAND_7</td><td>DOUBLE</td><td><p>Multiplicative rescaling factor used to convert calibrated Band 7 DN to radiance.</p></td></tr><tr><td>RADIANCE_MULT_BAND_8</td><td>DOUBLE</td><td><p>Multiplicative rescaling factor used to convert calibrated Band 8 DN to radiance.</p></td></tr><tr><td>RADIANCE_MULT_BAND_9</td><td>DOUBLE</td><td><p>Multiplicative rescaling factor used to convert calibrated Band 9 DN to radiance.</p></td></tr><tr><td>REFLECTANCE_ADD_BAND_1</td><td>DOUBLE</td><td><p>Additive rescaling factor used to convert calibrated Band 1 DN to reflectance.</p></td></tr><tr><td>REFLECTANCE_ADD_BAND_2</td><td>DOUBLE</td><td><p>Additive rescaling factor used to convert calibrated Band 2 DN to reflectance.</p></td></tr><tr><td>REFLECTANCE_ADD_BAND_3</td><td>DOUBLE</td><td><p>Additive rescaling factor used to convert calibrated Band 3 DN to reflectance.</p></td></tr><tr><td>REFLECTANCE_ADD_BAND_4</td><td>DOUBLE</td><td><p>Additive rescaling factor used to convert calibrated Band 4 DN to reflectance.</p></td></tr><tr><td>REFLECTANCE_ADD_BAND_5</td><td>DOUBLE</td><td><p>Additive rescaling factor used to convert calibrated Band 5 DN to reflectance.</p></td></tr><tr><td>REFLECTANCE_ADD_BAND_7</td><td>DOUBLE</td><td><p>Multiplicative factor used to convert calibrated Band 7 DN to reflectance.</p></td></tr><tr><td>REFLECTANCE_ADD_BAND_8</td><td>DOUBLE</td><td><p>Multiplicative factor used to convert calibrated Band 8 DN to reflectance.</p></td></tr><tr><td>REFLECTANCE_ADD_BAND_9</td><td>DOUBLE</td><td><p>Minimum achievable spectral reflectance value for Band 8.</p></td></tr><tr><td>REFLECTANCE_MULT_BAND_1</td><td>DOUBLE</td><td><p>Multiplicative factor used to convert calibrated Band 1 DN to reflectance.</p></td></tr><tr><td>REFLECTANCE_MULT_BAND_2</td><td>DOUBLE</td><td><p>Multiplicative factor used to convert calibrated Band 2 DN to reflectance.</p></td></tr><tr><td>REFLECTANCE_MULT_BAND_3</td><td>DOUBLE</td><td><p>Multiplicative factor used to convert calibrated Band 3 DN to reflectance.</p></td></tr><tr><td>REFLECTANCE_MULT_BAND_4</td><td>DOUBLE</td><td><p>Multiplicative factor used to convert calibrated Band 4 DN to reflectance.</p></td></tr><tr><td>REFLECTANCE_MULT_BAND_5</td><td>DOUBLE</td><td><p>Multiplicative factor used to convert calibrated Band 5 DN to reflectance.</p></td></tr><tr><td>REFLECTANCE_MULT_BAND_6</td><td>DOUBLE</td><td><p>Multiplicative factor used to convert calibrated Band 6 DN to reflectance.</p></td></tr><tr><td>REFLECTANCE_MULT_BAND_7</td><td>DOUBLE</td><td><p>Multiplicative factor used to convert calibrated Band 7 DN to reflectance.</p></td></tr><tr><td>REFLECTANCE_MULT_BAND_8</td><td>DOUBLE</td><td><p>Multiplicative factor used to convert calibrated Band 8 DN to reflectance.</p></td></tr><tr><td>REFLECTANCE_MULT_BAND_9</td><td>DOUBLE</td><td><p>Multiplicative factor used to convert calibrated Band 9 DN to reflectance.</p></td></tr><tr><td>REFLECTIVE_LINES</td><td>DOUBLE</td><td><p>Number of product lines for the reflective bands.</p></td></tr><tr><td>REFLECTIVE_SAMPLES</td><td>DOUBLE</td><td><p>Number of product samples for the reflective bands.</p></td></tr><tr><td>REQUEST_ID</td><td>STRING</td><td><p>Request id, nnnyymmdd0000_0000</p><ul><li>nnn = node number</li><li>yy = year</li><li>mm = month</li><li>dd = day</li></ul></td></tr><tr><td>RESAMPLING_OPTION</td><td>STRING</td><td><p>Resampling option used in creating the image.</p></td></tr><tr><td>RLUT_FILE_NAME</td><td>STRING</td><td><p>The file name for the Response Linearization Lookup Table (RLUT) used to generate the product, if applicable.</p></td></tr><tr><td>ROLL_ANGLE</td><td>DOUBLE</td><td><p>The amount of spacecraft roll angle at the scene center.</p></td></tr><tr><td>SATURATION_BAND_1</td><td>STRING</td><td><p>Flag indicating saturated pixels for band 1 (&#39;Y&#39;/&#39;N&#39;)</p></td></tr><tr><td>SATURATION_BAND_10</td><td>STRING</td><td><p>Flag indicating saturated pixels for band 10 (&#39;Y&#39;/&#39;N&#39;)</p></td></tr><tr><td>SATURATION_BAND_11</td><td>STRING</td><td><p>Flag indicating saturated pixels for band 11 (&#39;Y&#39;/&#39;N&#39;)</p></td></tr><tr><td>SATURATION_BAND_2</td><td>STRING</td><td><p>Flag indicating saturated pixels for band 2 (&#39;Y&#39;/&#39;N&#39;)</p></td></tr><tr><td>SATURATION_BAND_3</td><td>STRING</td><td><p>Flag indicating saturated pixels for band 3 (&#39;Y&#39;/&#39;N&#39;)</p></td></tr><tr><td>SATURATION_BAND_4</td><td>STRING</td><td><p>Flag indicating saturated pixels for band 4 (&#39;Y&#39;/&#39;N&#39;)</p></td></tr><tr><td>SATURATION_BAND_5</td><td>STRING</td><td><p>Flag indicating saturated pixels for band 5 (&#39;Y&#39;/&#39;N&#39;)</p></td></tr><tr><td>SATURATION_BAND_6</td><td>STRING</td><td><p>Flag indicating saturated pixels for band 6 (&#39;Y&#39;/&#39;N&#39;)</p></td></tr><tr><td>SATURATION_BAND_7</td><td>STRING</td><td><p>Flag indicating saturated pixels for band 7 (&#39;Y&#39;/&#39;N&#39;)</p></td></tr><tr><td>SATURATION_BAND_8</td><td>STRING</td><td><p>Flag indicating saturated pixels for band 8 (&#39;Y&#39;/&#39;N&#39;)</p></td></tr><tr><td>SATURATION_BAND_9</td><td>STRING</td><td><p>Flag indicating saturated pixels for band 9 (&#39;Y&#39;/&#39;N&#39;)</p></td></tr><tr><td>SCENE_CENTER_TIME</td><td>STRING</td><td><p>Scene center time of acquired image. HH:MM:SS.SSSSSSSZ</p><ul><li>HH = Hour (00-23)</li><li>MM = Minutes</li><li>SS.SSSSSSS = Fractional seconds</li><li>Z = &quot;Zulu&quot; time (same as GMT)</li></ul></td></tr><tr><td>SENSOR_ID</td><td>STRING</td><td><p>Sensor used to capture data.</p></td></tr><tr><td>SPACECRAFT_ID</td><td>STRING</td><td><p>Spacecraft identification.</p></td></tr><tr><td>STATION_ID</td><td>STRING</td><td><p>Ground Station/Organisation that received the data.</p></td></tr><tr><td>SUN_AZIMUTH</td><td>DOUBLE</td><td><p>Sun azimuth angle in degrees for the image center location at the image centre acquisition time.</p></td></tr><tr><td>SUN_ELEVATION</td><td>DOUBLE</td><td><p>Sun elevation angle in degrees for the image center location at the image centre acquisition time.</p></td></tr><tr><td>TARGET_WRS_PATH</td><td>DOUBLE</td><td><p>Nearest WRS-2 path to the line-of-sight scene center of the image.</p></td></tr><tr><td>TARGET_WRS_ROW</td><td>DOUBLE</td><td><p>Nearest WRS-2 row to the line-of-sight scene center of the image. Rows 880-889 and 990-999 are reserved for the polar regions where it is undefined in the WRS-2.</p></td></tr><tr><td>THERMAL_LINES</td><td>DOUBLE</td><td><p>Number of product lines for the thermal band.</p></td></tr><tr><td>THERMAL_SAMPLES</td><td>DOUBLE</td><td><p>Number of product samples for the thermal band.</p></td></tr><tr><td>TIRS_SSM_MODEL</td><td>STRING</td><td><p>Due to an anomalous condition on the Thermal Infrared\nSensor (TIRS) Scene Select Mirror (SSM) encoder electronics,\nthis field has been added to indicate which model was used to process the data.\n(Actual, Preliminary, Final)</p></td></tr><tr><td>TIRS_SSM_POSITION_STATUS</td><td>STRING</td><td><p>TIRS SSM position status.</p></td></tr><tr><td>TIRS_STRAY_LIGHT_CORRECTION_SOURCE</td><td>STRING</td><td><p>TIRS stray light correction source.</p></td></tr><tr><td>TRUNCATION_OLI</td><td>STRING</td><td><p>Region of OLCI truncated.</p></td></tr><tr><td>UTM_ZONE</td><td>DOUBLE</td><td><p>UTM zone number used in product map projection.</p></td></tr><tr><td>WRS_PATH</td><td>DOUBLE</td><td><p>The WRS orbital path number (001 - 251).</p></td></tr><tr><td>WRS_ROW</td><td>DOUBLE</td><td><p>Landsat satellite WRS row (001-248).</p></td></tr></table><p><b>Terms of Use</b><br><p>Landsat datasets are federally created data\nand therefore reside in the public domain and may be used, transferred, or reproduced without copyright restriction.</p><p>Acknowledgement or credit of the USGS as data source should be provided\nby including a line of text citation such as the example shown below.</p><p>(Product, Image, Photograph, or Dataset Name) courtesy of\nthe U.S. Geological Survey</p><p>Example: Landsat-7 image courtesy of the U.S. Geological Survey</p><p>See the\n<a href=\"https://www.usgs.gov/information-policies-and-instructions/usgs-visual-identity-system\">USGS Visual Identity System Guidance</a>\nfor further details on proper citation and acknowledgement of USGS products.</p><style>\n  table.eecat {\n  border: 1px solid black;\n  border-collapse: collapse;\n  font-size: 13px;\n  }\n  table.eecat td, tr, th {\n  text-align: left; vertical-align: top;\n  border: 1px solid gray; padding: 3px;\n  }\n  td.nobreak { white-space: nowrap; }\n</style>",
        "keywords": [
         "global",
         "landsat",
         "usgs"
        ],
        "period": 0,
        "product_tags": [
         "global",
         "oli_tirs",
         "l8",
         "lc8",
         "c1",
         "tier1",
         "t1",
         "radiance"
        ],
        "provider": "USGS",
        "provider_url": "https://landsat.usgs.gov/",
        "sample": "https://mw1.google.com/ges/dd/images/LANDSAT_RAW_sample.png",
        "source_tags": [
         "landsat",
         "usgs",
         "landsat",
         "usgs"
        ],
        "system:visualization_0_bands": "B4,B3,B2",
        "system:visualization_0_max": "30000.0",
        "system:visualization_0_min": "0.0",
        "system:visualization_0_name": "True Color (432)",
        "system:visualization_1_bands": "B5,B4,B3",
        "system:visualization_1_max": "30000.0",
        "system:visualization_1_min": "0.0",
        "system:visualization_1_name": "Near Infrared (543)",
        "system:visualization_2_bands": "B7,B5,B3",
        "system:visualization_2_max": "30000.0",
        "system:visualization_2_min": "0.0",
        "system:visualization_2_name": "Shortwave Infrared (753)",
        "tags": [
         "global",
         "landsat",
         "usgs"
        ],
        "thumb": "https://mw1.google.com/ges/dd/images/LANDSAT_RAW_thumb.png",
        "title": "USGS Landsat 8 Collection 1 Tier 1 Raw Scenes",
        "type_name": "ImageCollection",
        "visualization_0_bands": "B4,B3,B2",
        "visualization_0_max": "30000.0",
        "visualization_0_min": "0.0",
        "visualization_0_name": "True Color (432)",
        "visualization_1_bands": "B5,B4,B3",
        "visualization_1_max": "30000.0",
        "visualization_1_min": "0.0",
        "visualization_1_name": "Near Infrared (543)",
        "visualization_2_bands": "B7,B5,B3",
        "visualization_2_max": "30000.0",
        "visualization_2_min": "0.0",
        "visualization_2_name": "Shortwave Infrared (753)"
       },
       "type": "ImageCollection",
       "version": 1648901698996207
      },
      "text/plain": [
       "<IPython.core.display.JSON object>"
      ]
     },
     "execution_count": 30,
     "metadata": {
      "application/json": {
       "expanded": false,
       "root": "root"
      }
     },
     "output_type": "execute_result"
    }
   ],
   "source": [
    "JSON(landsat8.limit(5).getInfo())"
   ]
  },
  {
   "cell_type": "code",
   "execution_count": 31,
   "metadata": {
    "id": "Ny7o-Iajb_Sl",
    "tags": []
   },
   "outputs": [
    {
     "data": {
      "application/json": {
       "bands": [
        {
         "crs": "EPSG:32628",
         "crs_transform": [
          30,
          0,
          341085,
          0,
          -30,
          8807715
         ],
         "data_type": {
          "max": 65535,
          "min": 0,
          "precision": "int",
          "type": "PixelType"
         },
         "dimensions": [
          9171,
          9161
         ],
         "id": "B1"
        },
        {
         "crs": "EPSG:32628",
         "crs_transform": [
          30,
          0,
          341085,
          0,
          -30,
          8807715
         ],
         "data_type": {
          "max": 65535,
          "min": 0,
          "precision": "int",
          "type": "PixelType"
         },
         "dimensions": [
          9171,
          9161
         ],
         "id": "B2"
        },
        {
         "crs": "EPSG:32628",
         "crs_transform": [
          30,
          0,
          341085,
          0,
          -30,
          8807715
         ],
         "data_type": {
          "max": 65535,
          "min": 0,
          "precision": "int",
          "type": "PixelType"
         },
         "dimensions": [
          9171,
          9161
         ],
         "id": "B3"
        },
        {
         "crs": "EPSG:32628",
         "crs_transform": [
          30,
          0,
          341085,
          0,
          -30,
          8807715
         ],
         "data_type": {
          "max": 65535,
          "min": 0,
          "precision": "int",
          "type": "PixelType"
         },
         "dimensions": [
          9171,
          9161
         ],
         "id": "B4"
        },
        {
         "crs": "EPSG:32628",
         "crs_transform": [
          30,
          0,
          341085,
          0,
          -30,
          8807715
         ],
         "data_type": {
          "max": 65535,
          "min": 0,
          "precision": "int",
          "type": "PixelType"
         },
         "dimensions": [
          9171,
          9161
         ],
         "id": "B5"
        },
        {
         "crs": "EPSG:32628",
         "crs_transform": [
          30,
          0,
          341085,
          0,
          -30,
          8807715
         ],
         "data_type": {
          "max": 65535,
          "min": 0,
          "precision": "int",
          "type": "PixelType"
         },
         "dimensions": [
          9171,
          9161
         ],
         "id": "B6"
        },
        {
         "crs": "EPSG:32628",
         "crs_transform": [
          30,
          0,
          341085,
          0,
          -30,
          8807715
         ],
         "data_type": {
          "max": 65535,
          "min": 0,
          "precision": "int",
          "type": "PixelType"
         },
         "dimensions": [
          9171,
          9161
         ],
         "id": "B7"
        },
        {
         "crs": "EPSG:32628",
         "crs_transform": [
          15,
          0,
          341092.5,
          0,
          -15,
          8807707.5
         ],
         "data_type": {
          "max": 65535,
          "min": 0,
          "precision": "int",
          "type": "PixelType"
         },
         "dimensions": [
          18341,
          18321
         ],
         "id": "B8"
        },
        {
         "crs": "EPSG:32628",
         "crs_transform": [
          30,
          0,
          341085,
          0,
          -30,
          8807715
         ],
         "data_type": {
          "max": 65535,
          "min": 0,
          "precision": "int",
          "type": "PixelType"
         },
         "dimensions": [
          9171,
          9161
         ],
         "id": "B9"
        },
        {
         "crs": "EPSG:32628",
         "crs_transform": [
          30,
          0,
          341085,
          0,
          -30,
          8807715
         ],
         "data_type": {
          "max": 65535,
          "min": 0,
          "precision": "int",
          "type": "PixelType"
         },
         "dimensions": [
          9171,
          9161
         ],
         "id": "B10"
        },
        {
         "crs": "EPSG:32628",
         "crs_transform": [
          30,
          0,
          341085,
          0,
          -30,
          8807715
         ],
         "data_type": {
          "max": 65535,
          "min": 0,
          "precision": "int",
          "type": "PixelType"
         },
         "dimensions": [
          9171,
          9161
         ],
         "id": "B11"
        },
        {
         "crs": "EPSG:32628",
         "crs_transform": [
          30,
          0,
          341085,
          0,
          -30,
          8807715
         ],
         "data_type": {
          "max": 65535,
          "min": 0,
          "precision": "int",
          "type": "PixelType"
         },
         "dimensions": [
          9171,
          9161
         ],
         "id": "BQA"
        }
       ],
       "id": "LANDSAT/LC08/C01/T1/LC08_001004_20140524",
       "properties": {
        "BPF_NAME_OLI": "LO8BPF20140524140630_20140524144417.01",
        "BPF_NAME_TIRS": "LT8BPF20140524140236_20140524144510.01",
        "CLOUD_COVER": 88.55000305175781,
        "CLOUD_COVER_LAND": 38.20000076293945,
        "COLLECTION_CATEGORY": "T1",
        "COLLECTION_NUMBER": 1,
        "CPF_NAME": "LC08CPF_20140401_20140630_01.01",
        "DATA_TYPE": "L1TP",
        "DATE_ACQUIRED": "2014-05-24",
        "DATUM": "WGS84",
        "EARTH_SUN_DISTANCE": 1.0127068758010864,
        "ELEVATION_SOURCE": "GLS2000",
        "ELLIPSOID": "WGS84",
        "FILE_DATE": 1492857311000,
        "GEOMETRIC_RMSE_MODEL": 7.665999889373779,
        "GEOMETRIC_RMSE_MODEL_X": 5.482999801635742,
        "GEOMETRIC_RMSE_MODEL_Y": 5.357999801635742,
        "GRID_CELL_SIZE_PANCHROMATIC": 15,
        "GRID_CELL_SIZE_REFLECTIVE": 30,
        "GRID_CELL_SIZE_THERMAL": 30,
        "GROUND_CONTROL_POINTS_MODEL": 7,
        "GROUND_CONTROL_POINTS_VERSION": 4,
        "IMAGE_QUALITY_OLI": 9,
        "IMAGE_QUALITY_TIRS": 9,
        "K1_CONSTANT_BAND_10": 774.8853149414062,
        "K1_CONSTANT_BAND_11": 480.8883056640625,
        "K2_CONSTANT_BAND_10": 1321.078857421875,
        "K2_CONSTANT_BAND_11": 1201.1441650390625,
        "LANDSAT_PRODUCT_ID": "LC08_L1TP_001004_20140524_20170422_01_T1",
        "LANDSAT_SCENE_ID": "LC80010042014144LGN01",
        "MAP_PROJECTION": "UTM",
        "NADIR_OFFNADIR": "NADIR",
        "ORIENTATION": "NORTH_UP",
        "PANCHROMATIC_LINES": 18321,
        "PANCHROMATIC_SAMPLES": 18341,
        "PROCESSING_SOFTWARE_VERSION": "LPGS_2.7.0",
        "RADIANCE_ADD_BAND_1": -61.21323013305664,
        "RADIANCE_ADD_BAND_10": 0.10000000149011612,
        "RADIANCE_ADD_BAND_11": 0.10000000149011612,
        "RADIANCE_ADD_BAND_2": -62.68309020996094,
        "RADIANCE_ADD_BAND_3": -57.76192855834961,
        "RADIANCE_ADD_BAND_4": -48.7081184387207,
        "RADIANCE_ADD_BAND_5": -29.80694007873535,
        "RADIANCE_ADD_BAND_6": -7.412710189819336,
        "RADIANCE_ADD_BAND_7": -2.4984800815582275,
        "RADIANCE_ADD_BAND_8": -55.12417984008789,
        "RADIANCE_ADD_BAND_9": -11.649230003356934,
        "RADIANCE_MULT_BAND_1": 0.012242999859154224,
        "RADIANCE_MULT_BAND_10": 0.00033420001273043454,
        "RADIANCE_MULT_BAND_11": 0.00033420001273043454,
        "RADIANCE_MULT_BAND_2": 0.012536999769508839,
        "RADIANCE_MULT_BAND_3": 0.011552000418305397,
        "RADIANCE_MULT_BAND_4": 0.009741599671542645,
        "RADIANCE_MULT_BAND_5": 0.005961399991065264,
        "RADIANCE_MULT_BAND_6": 0.001482499996200204,
        "RADIANCE_MULT_BAND_7": 0.0004997000214643776,
        "RADIANCE_MULT_BAND_8": 0.011025000363588333,
        "RADIANCE_MULT_BAND_9": 0.002329800045117736,
        "REFLECTANCE_ADD_BAND_1": -0.10000000149011612,
        "REFLECTANCE_ADD_BAND_2": -0.10000000149011612,
        "REFLECTANCE_ADD_BAND_3": -0.10000000149011612,
        "REFLECTANCE_ADD_BAND_4": -0.10000000149011612,
        "REFLECTANCE_ADD_BAND_5": -0.10000000149011612,
        "REFLECTANCE_ADD_BAND_6": -0.10000000149011612,
        "REFLECTANCE_ADD_BAND_7": -0.10000000149011612,
        "REFLECTANCE_ADD_BAND_8": -0.10000000149011612,
        "REFLECTANCE_ADD_BAND_9": -0.10000000149011612,
        "REFLECTANCE_MULT_BAND_1": 1.9999999494757503e-05,
        "REFLECTANCE_MULT_BAND_2": 1.9999999494757503e-05,
        "REFLECTANCE_MULT_BAND_3": 1.9999999494757503e-05,
        "REFLECTANCE_MULT_BAND_4": 1.9999999494757503e-05,
        "REFLECTANCE_MULT_BAND_5": 1.9999999494757503e-05,
        "REFLECTANCE_MULT_BAND_6": 1.9999999494757503e-05,
        "REFLECTANCE_MULT_BAND_7": 1.9999999494757503e-05,
        "REFLECTANCE_MULT_BAND_8": 1.9999999494757503e-05,
        "REFLECTANCE_MULT_BAND_9": 1.9999999494757503e-05,
        "REFLECTIVE_LINES": 9161,
        "REFLECTIVE_SAMPLES": 9171,
        "REQUEST_ID": "0501704226249_00002",
        "RESAMPLING_OPTION": "CUBIC_CONVOLUTION",
        "RLUT_FILE_NAME": "LC08RLUT_20130211_20150302_01_11.h5",
        "ROLL_ANGLE": -0.0010000000474974513,
        "SATURATION_BAND_1": "N",
        "SATURATION_BAND_2": "N",
        "SATURATION_BAND_3": "N",
        "SATURATION_BAND_4": "N",
        "SATURATION_BAND_5": "N",
        "SATURATION_BAND_6": "N",
        "SATURATION_BAND_7": "N",
        "SATURATION_BAND_8": "N",
        "SATURATION_BAND_9": "N",
        "SCENE_CENTER_TIME": "14:07:53.5175160Z",
        "SENSOR_ID": "OLI_TIRS",
        "SPACECRAFT_ID": "LANDSAT_8",
        "STATION_ID": "LGN",
        "SUN_AZIMUTH": -161.3436737060547,
        "SUN_ELEVATION": 32.1458625793457,
        "TARGET_WRS_PATH": 1,
        "TARGET_WRS_ROW": 4,
        "THERMAL_LINES": 9161,
        "THERMAL_SAMPLES": 9171,
        "TIRS_SSM_MODEL": "ACTUAL",
        "TIRS_SSM_POSITION_STATUS": "NOMINAL",
        "TIRS_STRAY_LIGHT_CORRECTION_SOURCE": "TIRS",
        "TRUNCATION_OLI": "UPPER",
        "UTM_ZONE": 28,
        "WRS_PATH": 1,
        "WRS_ROW": 4,
        "system:asset_size": 1222749075,
        "system:footprint": {
         "coordinates": [
          [
           -14.48531653328562,
           77.19560246459865
          ],
          [
           -14.260656626377951,
           77.2438675118657
          ],
          [
           -11.037446463313719,
           77.8806505434013
          ],
          [
           -10.514798911626153,
           77.97486896283264
          ],
          [
           -9.973183928299736,
           78.07037739268894
          ],
          [
           -10.898578963431735,
           78.29254506737068
          ],
          [
           -12.946558538425377,
           78.74610026610401
          ],
          [
           -15.16335454980503,
           79.18492563273314
          ],
          [
           -15.9873774544603,
           79.33551824894327
          ],
          [
           -16.167196970615183,
           79.30133757875339
          ],
          [
           -19.0480099639651,
           78.70410801025652
          ],
          [
           -21.637622546414864,
           78.08197287736508
          ],
          [
           -21.8586022291594,
           78.02423500898735
          ],
          [
           -21.823412156720035,
           78.01809542186105
          ],
          [
           -21.044631785762583,
           77.88596723086232
          ],
          [
           -17.249703063874698,
           77.16435550230098
          ],
          [
           -16.03273667328167,
           76.90249653097108
          ],
          [
           -15.91309511137179,
           76.87623197230317
          ],
          [
           -15.777460011234437,
           76.90742783932848
          ],
          [
           -15.020703972411463,
           77.07841355112116
          ],
          [
           -14.48531653328562,
           77.19560246459865
          ]
         ],
         "type": "LinearRing"
        },
        "system:index": "LC08_001004_20140524",
        "system:time_start": 1400940473520
       },
       "type": "Image",
       "version": 1497530321971000
      },
      "text/plain": [
       "<IPython.core.display.JSON object>"
      ]
     },
     "execution_count": 31,
     "metadata": {
      "application/json": {
       "expanded": false,
       "root": "root"
      }
     },
     "output_type": "execute_result"
    }
   ],
   "source": [
    "JSON(landsat8.first().getInfo())"
   ]
  },
  {
   "cell_type": "code",
   "execution_count": 32,
   "metadata": {
    "id": "APDm9Z53APzZ",
    "tags": []
   },
   "outputs": [],
   "source": [
    "# define a filter object\n",
    "filter_op = ee.Filter.lt(\"CLOUD_COVER\",25)\n",
    "\n",
    "# apply the filter on a collection\n",
    "landsat8_noclouds = landsat8_portland.filter(filter_op)"
   ]
  },
  {
   "cell_type": "code",
   "execution_count": 37,
   "metadata": {
    "id": "HGEcPMOoCQsT",
    "tags": []
   },
   "outputs": [
    {
     "data": {
      "application/vnd.jupyter.widget-view+json": {
       "model_id": "8ef3303cb9514ea6b61dcc35bad72956",
       "version_major": 2,
       "version_minor": 0
      },
      "text/plain": [
       "Map(center=[45.5152, -122.67839999999998], controls=(WidgetControl(options=['position', 'transparent_bg'], wid…"
      ]
     },
     "execution_count": 37,
     "metadata": {},
     "output_type": "execute_result"
    }
   ],
   "source": [
    "# Display result\n",
    "Map = geemap.Map()\n",
    "\n",
    "Map.centerObject(portland, 10)\n",
    "\n",
    "Map.addLayer(landsat8_noclouds, {\"bands\": ['B4','B3','B2'], \"min\": 5000, \"max\": 15000}, 'Landsat 8 Image Collection');\n",
    "\n",
    "Map.addLayerControl()\n",
    "\n",
    "Map"
   ]
  },
  {
   "cell_type": "markdown",
   "metadata": {
    "id": "MDgdFxdSCrP6"
   },
   "source": [
    "### Sorting\n",
    "\n",
    "After filtering we can apply additional operations to extract the imagery we would like (or manage data for processing). Here we will sort the imagery by date to extract the earliest image from the filtered collection. Sorting work on any numeric metadata property so it can be very useful to extract imagery or pre process things."
   ]
  },
  {
   "cell_type": "code",
   "execution_count": 38,
   "metadata": {
    "id": "10i01AePDKU8",
    "tags": []
   },
   "outputs": [],
   "source": [
    "# sort the collection by a numeric value, in this case time\n",
    "landsat8_sorted = landsat8_noclouds.sort(\"CLOUD_COVER\")\n",
    "\n",
    "# grab the first image in the sorted collection\n",
    "landsat8_img = landsat8_sorted.first()"
   ]
  },
  {
   "cell_type": "code",
   "execution_count": 39,
   "metadata": {
    "id": "yo1kQB13PiiJ",
    "tags": []
   },
   "outputs": [],
   "source": [
    "# check that the result is in fact an image not a collection\n",
    "assert type(landsat8_img) == ee.Image"
   ]
  },
  {
   "cell_type": "code",
   "execution_count": 41,
   "metadata": {
    "id": "FEIqNyhWDSe7",
    "tags": []
   },
   "outputs": [
    {
     "data": {
      "application/vnd.jupyter.widget-view+json": {
       "model_id": "2ff85f7622f34dfcb4d909df30cf2bc4",
       "version_major": 2,
       "version_minor": 0
      },
      "text/plain": [
       "Map(center=[45.5152, -122.67839999999998], controls=(WidgetControl(options=['position', 'transparent_bg'], wid…"
      ]
     },
     "execution_count": 41,
     "metadata": {},
     "output_type": "execute_result"
    }
   ],
   "source": [
    "# Display map\n",
    "Map = geemap.Map()\n",
    "\n",
    "Map.centerObject(portland, 10)\n",
    "\n",
    "Map.addLayer(landsat8_img, {\"bands\": ['B4','B3','B2'], \"min\": 5000, \"max\": 15000}, 'Landsat 8 Image Collection');\n",
    "\n",
    "Map.addLayerControl()\n",
    "\n",
    "Map"
   ]
  },
  {
   "cell_type": "markdown",
   "metadata": {
    "id": "zbQK-2k5QtZ4"
   },
   "source": [
    "## Conclusion \n",
    "\n",
    "In this notebook we explored a couple fundamental concepts of using Earth Engine:\n",
    "1. Client vs Server side operations\n",
    "2. Loading data using Earth Engine and exploring the properties of data\n",
    "3. Visualizing data\n",
    "4. Loading image collections using Earth Engine\n",
    "5. Filtering image collections using space, time, and metadata information\n",
    "6. Combining filtering with sorting to gather imagery we are interested in\n",
    "\n",
    "These concepts are used often with Earth Engine and should be internalized. The next lab will focus on using the information to explore charateristics of different sensors/data in Earth Engine."
   ]
  }
 ],
 "metadata": {
  "colab": {
   "collapsed_sections": [],
   "name": "Copy of Lab 1 - Intro to Remote Sensing and EE.ipynb",
   "private_outputs": true,
   "provenance": []
  },
  "environment": {
   "kernel": "python3",
   "name": "common-cpu.m93",
   "type": "gcloud",
   "uri": "gcr.io/deeplearning-platform-release/base-cpu:m93"
  },
  "kernelspec": {
   "display_name": "Python 3 (ipykernel)",
   "language": "python",
   "name": "python3"
  },
  "language_info": {
   "codemirror_mode": {
    "name": "ipython",
    "version": 3
   },
   "file_extension": ".py",
   "mimetype": "text/x-python",
   "name": "python",
   "nbconvert_exporter": "python",
   "pygments_lexer": "ipython3",
   "version": "3.11.4"
  }
 },
 "nbformat": 4,
 "nbformat_minor": 4
}
