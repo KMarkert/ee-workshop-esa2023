{
  "cells": [
    {
      "cell_type": "markdown",
      "metadata": {
        "id": "tdhacU1-KtN6"
      },
      "source": [
        "Notebook name reference: https://www.youtube.com/watch?v=drnBMAEA3AM\n",
        "\n",
        "Used for lack of a better name..."
      ]
    },
    {
      "cell_type": "markdown",
      "metadata": {
        "id": "1ZYHAFWoLFza"
      },
      "source": [
        "# Species Distribution Modeling on Earth Engine\n",
        "\n",
        "<table align=\"left\">\n",
        " <td>\n",
        "   <a href=_>\n",
        "       <img src=https://cloud.google.com/ml-engine/images/colab-logo-32px.png alt=\"Colab logo\">\n",
        "     Run in Colab\n",
        "   </a>\n",
        " </td>\n",
        " <td>\n",
        "   <a href=_>\n",
        "       <img src=https://lh3.googleusercontent.com/UiNooY4LUgW_oTvpsNhPpQzsstV5W8F7rYgxgGBD85cWJoLmrOzhVs_ksK_vgx40SHs7jCqkTkCk=e14-rj-sc0xffffff-h130-w32 alt=\\\"Vertex AI logo\\\">\n",
        "     Open in Vertex AI Workbench\n",
        "   </a>\n",
        " </td>\n",
        "</table>\n",
        "<br/><br/><br/>"
      ]
    },
    {
      "cell_type": "code",
      "execution_count": null,
      "metadata": {
        "id": "pKYehudqjuy4"
      },
      "outputs": [],
      "source": [
        "import ee\n",
        "import geemap\n",
        "import math\n",
        "from IPython.display import JSON\n",
        "from google.auth import compute_engine"
      ]
    },
    {
      "cell_type": "code",
      "execution_count": null,
      "metadata": {
        "id": "eDFN4DWrPXK4"
      },
      "outputs": [],
      "source": [
        "# If you are running this notebook in Colab, run this cell and follow the\n",
        "# instructions to authenticate your GCP account. This allows for you to\n",
        "# pull cloud credentials for auth with Earth Engine.\n",
        "\n",
        "import os\n",
        "import sys\n",
        "\n",
        "# If on Vertex AI Workbench, then don't execute this code\n",
        "IS_COLAB = \"google.colab\" in sys.modules\n",
        "if not os.path.exists(\"/opt/deeplearning/metadata/env_version\") and not os.getenv(\n",
        "    \"DL_ANACONDA_HOME\"\n",
        "):\n",
        "    if \"google.colab\" in sys.modules:\n",
        "        from google.colab import auth as google_auth\n",
        "\n",
        "        google_auth.authenticate_user()\n",
        "\n",
        "        !pip install geemap -q"
      ]
    },
    {
      "cell_type": "code",
      "execution_count": null,
      "metadata": {
        "id": "l_b8_Y9XOTZw"
      },
      "outputs": [],
      "source": [
        "# change to your cloud project\n",
        "PROJECT = 'cloud-geographers-internal-gee'"
      ]
    },
    {
      "cell_type": "code",
      "execution_count": null,
      "metadata": {
        "id": "vvZZnGTtO480"
      },
      "outputs": [],
      "source": [
        "# authenticate with Earth Engine\n",
        "scopes = [\n",
        "    \"https://www.googleapis.com/auth/earthengine\"\n",
        "]\n",
        "\n",
        "credentials = compute_engine.Credentials(scopes=scopes)\n",
        "\n",
        "ee.Initialize(\n",
        "    credentials,\n",
        "    project=PROJECT\n",
        ")"
      ]
    },
    {
      "cell_type": "code",
      "execution_count": null,
      "metadata": {
        "id": "irHNtrZBPatE"
      },
      "outputs": [],
      "source": [
        "tracking_data = ee.FeatureCollection('projects/ee-kmarkert-demo/assets/GPS_tracking_bobcats_coyotes_WA')"
      ]
    },
    {
      "cell_type": "code",
      "execution_count": null,
      "metadata": {
        "id": "db5w_lo1md6y"
      },
      "outputs": [],
      "source": [
        "tracking_data = (\n",
        "    tracking_data\n",
        "    .map(lambda x: ee.Feature(x).set('millis', ee.Date(ee.Feature(x).get('system:time_start')).millis()))\n",
        ")"
      ]
    },
    {
      "cell_type": "code",
      "execution_count": null,
      "metadata": {
        "id": "oTQJL7dbjx3Y"
      },
      "outputs": [],
      "source": [
        "coyotes = tracking_data.filter(\n",
        "  ee.Filter.eq(\"individual-taxon-canonical-name\", \"Canis latrans\")\n",
        ")\n",
        "bobcat = tracking_data.filter(\n",
        "  ee.Filter.eq(\"individual-taxon-canonical-name\", \"Lynx rufus\")\n",
        ")"
      ]
    },
    {
      "cell_type": "code",
      "execution_count": null,
      "metadata": {
        "id": "K9BzkTpbhS2S"
      },
      "outputs": [],
      "source": [
        "# display the\n",
        "Map = geemap.Map()\n",
        "\n",
        "Map.addLayer(coyotes, {\"color\":\"red\"}, \"Coyotes\")\n",
        "Map.addLayer(bobcat, {\"color\":\"blue\"}, \"Bobcat\")\n",
        "\n",
        "Map.centerObject(tracking_data, 10)"
      ]
    },
    {
      "cell_type": "code",
      "execution_count": null,
      "metadata": {
        "cellView": "form",
        "id": "Ig1PtbARNWD7"
      },
      "outputs": [],
      "source": [
        "#@title Choose your species\n",
        "\n",
        "species = \"Bobcat\" #@param [\"Bobcat\", \"Coyote\"]\n"
      ]
    },
    {
      "cell_type": "code",
      "execution_count": null,
      "metadata": {
        "id": "ey9CpjyxpcJa"
      },
      "outputs": [],
      "source": [
        "if species.lower() == \"bobcat\":\n",
        "    species_locations = bobcat.randomColumn().limit(5000,'random')\n",
        "elif species.lower() == \"coyote\":\n",
        "    species_locations = coyotes.randomColumn().limit(5000,'random')\n",
        "else:\n",
        "    raise ValueError(\"value for `species` not recongnized, options are 'Bobcat' or 'Coyote'\")"
      ]
    },
    {
      "cell_type": "code",
      "execution_count": null,
      "metadata": {
        "id": "2c2T6hfkQwYx"
      },
      "outputs": [],
      "source": [
        "dates = (\n",
        "    tracking_data\n",
        "    .aggregate_array('system:time_start')\n",
        "    .map(lambda x: ee.Date(x).format('YYYY-MM-01'))\n",
        "    .distinct()\n",
        ")\n",
        "\n",
        "start_date = dates.reduce(ee.Reducer.min())\n",
        "end_date = dates.reduce(ee.Reducer.max())\n"
      ]
    },
    {
      "cell_type": "code",
      "execution_count": null,
      "metadata": {
        "id": "XQ3wa8GlXr-E"
      },
      "outputs": [],
      "source": [
        "# helper function to convert qa bit image to flag\n",
        "def extract_bits(image, start, end=None, new_name=None):\n",
        "    \"\"\"Function to conver qa bits to binary flag image\n",
        "\n",
        "    args:\n",
        "        image (ee.Image): qa image to extract bit from\n",
        "        start (int): starting bit for flag\n",
        "        end (int | None, optional): ending bit for flag, if None then will only use start bit. default = None\n",
        "        new_name (str | None, optional): output name of resulting image, if None name will be {start}Bits. default = None\n",
        "\n",
        "    returns:\n",
        "        ee.Image: image with extract bits\n",
        "    \"\"\"\n",
        "\n",
        "    newname = new_name if new_name is not None else f\"{start}Bits\"\n",
        "\n",
        "    if (start == end) or (end is None):\n",
        "        # perform a bit shift with bitwiseAnd\n",
        "        return image.select([0], [newname]).bitwiseAnd(1 << start)\n",
        "    else:\n",
        "        # Compute the bits we need to extract.\n",
        "        pattern = 0\n",
        "        for i in range(start, end):\n",
        "            pattern += int(math.pow(2, i))\n",
        "\n",
        "        # Return a single band image of the extracted QA bits, giving the band\n",
        "        # a new name.\n",
        "        return image.select([0], [newname]).bitwiseAnd(pattern).rightShift(start)\n",
        "\n",
        "def preprocess_viirs(image):\n",
        "    \"\"\"Custom QA masking method for VIIRS VNP09GA dataset\"\"\"\n",
        "    cloudMask = extract_bits(\n",
        "        image.select(\"QF1\"), 2, end=3, new_name=\"cloud_qa\"\n",
        "    ).lt(1)\n",
        "    shadowMask = extract_bits(\n",
        "        image.select(\"QF2\"), 3, new_name=\"shadow_qa\"\n",
        "    ).Not()\n",
        "    snowMask = extract_bits(image.select(\"QF2\"), 5, new_name=\"snow_qa\").Not()\n",
        "    sensorZenith = image.select(\"SensorZenith\").abs().lt(6000)\n",
        "\n",
        "    qa_mask = cloudMask.And(shadowMask).And(sensorZenith)\n",
        "\n",
        "    ndvi = image.normalizedDifference(['I2', 'I1']).rename('NDVI')\n",
        "\n",
        "    return (\n",
        "        image.select('(M|I).*')\n",
        "        .addBands(ndvi)\n",
        "        .updateMask(qa_mask)\n",
        "    )\n",
        "\n"
      ]
    },
    {
      "cell_type": "code",
      "execution_count": null,
      "metadata": {
        "id": "ufiqPI92ddRU"
      },
      "outputs": [],
      "source": [
        "viirs = (\n",
        "    ee.ImageCollection(\"NOAA/VIIRS/001/VNP09GA\")\n",
        "    .filterDate(start_date, \"2023-08-01\")\n",
        "    .map(preprocess_viirs)\n",
        ")\n"
      ]
    },
    {
      "cell_type": "code",
      "execution_count": null,
      "metadata": {
        "id": "zsnSyFojQbhl"
      },
      "outputs": [],
      "source": [
        "dem = ee.Image(\"NASA/NASADEM_HGT/001\")\n",
        "bioclim = ee.Image(\"WORLDCLIM/V1/BIO\")"
      ]
    },
    {
      "cell_type": "code",
      "execution_count": null,
      "metadata": {
        "id": "Z-5pmiHpIkLU"
      },
      "outputs": [],
      "source": [
        "absence_area = species_locations.geometry(1e4).bounds(1e4).difference(right = species_locations.geometry(1e2).buffer(500), maxError = 1e3)"
      ]
    },
    {
      "cell_type": "code",
      "execution_count": null,
      "metadata": {
        "id": "gq7lGX8ah3Ky"
      },
      "outputs": [],
      "source": [
        "def sample_locations(date):\n",
        "    \"\"\"Function to sample locations from a date\n",
        "\n",
        "    args:\n",
        "        date (str): date in YYYY-MM-dd format\n",
        "\n",
        "    returns:\n",
        "        ee.FeatureCollection: sampled locations\n",
        "    \"\"\"\n",
        "    start_date = ee.Date(date)\n",
        "    end_date = start_date.advance(1, \"month\")\n",
        "\n",
        "    tracks = species_locations.filter(\n",
        "        ee.Filter.rangeContains('millis',start_date.millis(), end_date.millis())\n",
        "    )\n",
        "\n",
        "    presence = tracks.map(lambda x: ee.Feature(x).set('presence',1))\n",
        "\n",
        "    absence = ee.FeatureCollection.randomPoints(absence_area, points=presence.size(), seed = start_date.millis(), maxError=1e3)\n",
        "    absence = absence.map(lambda x: ee.Feature(x).set('presence',0))\n",
        "\n",
        "    tracks = presence.merge(absence)\n",
        "\n",
        "    sample_img = (\n",
        "        viirs.filterDate(start_date, end_date).select(\"NDVI\").mean()\n",
        "        .addBands(dem.select('elevation'))\n",
        "        .addBands(bioclim)\n",
        "    )\n",
        "\n",
        "    samples = sample_img.sampleRegions(\n",
        "        collection=tracks,\n",
        "        scale=1000,\n",
        "        tileScale=16,\n",
        "        geometries=True,\n",
        "    )\n",
        "\n",
        "    return samples"
      ]
    },
    {
      "cell_type": "code",
      "execution_count": null,
      "metadata": {
        "id": "4i68dsQfjiMZ"
      },
      "outputs": [],
      "source": [
        "samples = ee.FeatureCollection(dates.map(sample_locations)).flatten()"
      ]
    },
    {
      "cell_type": "code",
      "execution_count": null,
      "metadata": {
        "id": "MQh7wLK0Bsj6"
      },
      "outputs": [],
      "source": [
        "# samples.first().getInfo()"
      ]
    },
    {
      "cell_type": "code",
      "execution_count": null,
      "metadata": {
        "id": "vUUbUu1SbPqK"
      },
      "outputs": [],
      "source": [
        "# task = ee.batch.Export.table.toAsset(samples, description='bobcat_sample_export', assetId=f\"projects/{PROJECT}/assets/bobcat_samples\")\n",
        "# task.start()"
      ]
    },
    {
      "cell_type": "code",
      "execution_count": null,
      "metadata": {
        "id": "HV4NrL1nlDD9"
      },
      "outputs": [],
      "source": [
        "sample_fc = ee.FeatureCollection(f\"projects/{PROJECT}/assets/bobcat_samples\")"
      ]
    },
    {
      "cell_type": "code",
      "execution_count": null,
      "metadata": {
        "id": "5XMMEChQsxJP"
      },
      "outputs": [],
      "source": [
        "img =  (\n",
        "        viirs.filterDate(\"2019-04-01\",\"2019-05-01\").select(\"NDVI\").mean().resample()\n",
        "        .addBands(dem.select('elevation'))\n",
        "        .addBands(bioclim).resample()\n",
        "    )"
      ]
    },
    {
      "cell_type": "code",
      "execution_count": null,
      "metadata": {
        "id": "ZShhqONOobbh"
      },
      "outputs": [],
      "source": [
        "bobcat_classifier = (\n",
        "    # ee.Classifier.smileRandomForest(20)\n",
        "    ee.Classifier.amnhMaxent()\n",
        "    .setOutputMode('PROBABILITY')\n",
        "    .train(sample_fc,'presence', img.bandNames())\n",
        ")"
      ]
    },
    {
      "cell_type": "code",
      "execution_count": null,
      "metadata": {
        "id": "kGhndE6Lt6M-"
      },
      "outputs": [],
      "source": [
        "from IPython.display import HTML\n",
        "import json"
      ]
    },
    {
      "cell_type": "code",
      "execution_count": null,
      "metadata": {
        "id": "BiytRKCyuAe1"
      },
      "outputs": [],
      "source": [
        "JSON(classifier_explained, root='Contributions')"
      ]
    },
    {
      "cell_type": "code",
      "execution_count": null,
      "metadata": {
        "id": "sXrEtRFXvsbP"
      },
      "outputs": [],
      "source": []
    },
    {
      "cell_type": "code",
      "execution_count": null,
      "metadata": {
        "id": "G02D-Nz3Mn5V"
      },
      "outputs": [],
      "source": [
        "classifier_explained = bobcat_classifier.explain().getInfo()\n",
        "classifier_explained\n"
      ]
    },
    {
      "cell_type": "code",
      "execution_count": null,
      "metadata": {
        "id": "QRX2osKHqi6d"
      },
      "outputs": [],
      "source": [
        "x = img.classify(bobcat_classifier)"
      ]
    },
    {
      "cell_type": "code",
      "execution_count": null,
      "metadata": {
        "id": "9Do6Z9RDqjRx"
      },
      "outputs": [],
      "source": [
        "\n",
        "Map.addLayer(x , {'bands':'probability'}, f'{species} Distribution')\n",
        "# Map.addLayer(sample_fc,{'color':'red'}, 'Samples')"
      ]
    },
    {
      "cell_type": "code",
      "execution_count": null,
      "metadata": {
        "id": "aMhd7LPdqt72"
      },
      "outputs": [],
      "source": []
    }
  ],
  "metadata": {
    "colab": {
      "private_outputs": true,
      "provenance": []
    },
    "kernelspec": {
      "display_name": "Python 3",
      "name": "python3"
    },
    "language_info": {
      "name": "python"
    }
  },
  "nbformat": 4,
  "nbformat_minor": 0
}
