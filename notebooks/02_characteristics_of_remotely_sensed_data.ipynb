{
 "cells": [
  {
   "cell_type": "code",
   "execution_count": null,
   "metadata": {
    "tags": []
   },
   "outputs": [],
   "source": [
    "# Copyright 2023 Google LLC\n",
    "#\n",
    "# Licensed under the Apache License, Version 2.0 (the \"License\");\n",
    "# you may not use this file except in compliance with the License.\n",
    "# You may obtain a copy of the License at\n",
    "#\n",
    "#     https://www.apache.org/licenses/LICENSE-2.0\n",
    "#\n",
    "# Unless required by applicable law or agreed to in writing, software\n",
    "# distributed under the License is distributed on an \"AS IS\" BASIS,\n",
    "# WITHOUT WARRANTIES OR CONDITIONS OF ANY KIND, either express or implied.\n",
    "# See the License for the specific language governing permissions and\n",
    "# limitations under the License."
   ]
  },
  {
   "cell_type": "markdown",
   "metadata": {},
   "source": [
    "# Lab 2: Characteristics of remotely sensed data\n",
    "\n",
    "\n",
    "<table align=\"left\">\n",
    " <td>\n",
    "   <a href=https://colab.research.google.com/github/KMarkert/ee-workshop-esa2023/blob/main/notebooks/02_characteristics_of_remotely_sensed_data.ipynb>\n",
    "       <img src=https://cloud.google.com/ml-engine/images/colab-logo-32px.png alt=\"Colab logo\">\n",
    "    Run in Colab\n",
    "   </a>\n",
    " </td>\n",
    " <td>\n",
    "   <a href=https://console.cloud.google.com/vertex-ai/workbench/deploy-notebook?download_url=https://raw.githubusercontent.com/KMarkert/ee-workshop-esa2023/main/notebooks/02_characteristics_of_remotely_sensed_data.ipynb>\n",
    "       <img src=https://lh3.googleusercontent.com/UiNooY4LUgW_oTvpsNhPpQzsstV5W8F7rYgxgGBD85cWJoLmrOzhVs_ksK_vgx40SHs7jCqkTkCk=e14-rj-sc0xffffff-h130-w32 alt=\\\"Vertex AI logo\\\">\n",
    "     Open in Vertex AI Workbench\n",
    "   </a>\n",
    " </td>\n",
    "</table>\n",
    "<br/><br/><br/>"
   ]
  },
  {
   "cell_type": "markdown",
   "metadata": {
    "id": "Ir6zYHId06ON"
   },
   "source": [
    "**Purpose:** The purpose of this lab is to demonstrate concepts of spatial, spectral, temporal and radiometric resolution.  You will be introduced to image data from several sensors aboard various platforms.  At the completion of the lab, you will be able to understand the difference between remotely sensed datasets based on sensor characteristics and how to choose an appropriate remotely sensed dataset based on these concepts.\n"
   ]
  },
  {
   "cell_type": "code",
   "execution_count": null,
   "metadata": {
    "tags": []
   },
   "outputs": [],
   "source": [
    "# If you are running this notebook in Colab, run this cell to install geemap. \n",
    "# This allows for you to use interactive maps with Earth Engine.\n",
    "\n",
    "import os\n",
    "import sys\n",
    "\n",
    "# If on Vertex AI Workbench, then don't execute this code\n",
    "IS_COLAB = \"google.colab\" in sys.modules\n",
    "if not os.path.exists(\"/opt/deeplearning/metadata/env_version\") and not os.getenv(\n",
    "    \"DL_ANACONDA_HOME\"\n",
    "):\n",
    "    if \"google.colab\" in sys.modules:\n",
    "        !pip install geemap -q"
   ]
  },
  {
   "cell_type": "code",
   "execution_count": null,
   "metadata": {
    "id": "GUYs_DWL4Wf9",
    "tags": []
   },
   "outputs": [],
   "source": [
    "from IPython.display import JSON\n",
    "\n",
    "import ee\n",
    "import geemap\n",
    "import google"
   ]
  },
  {
   "cell_type": "code",
   "execution_count": null,
   "metadata": {
    "id": "gTNNnPhu4W-T",
    "tags": []
   },
   "outputs": [],
   "source": [
    "if IS_COLAB:\n",
    "    print('Authenticating using Colab auth...')\n",
    "    # Authenticate to populate Application Default Credentials in the Colab VM.\n",
    "    google.colab.auth.authenticate_user()\n",
    "    # Create credentials needed for accessing Earth Engine.\n",
    "    credentials, auth_project_id = google.auth.default()\n",
    "    PROJECT = input('Enter your Google Cloud Project ID: ')\n",
    "    # Initialize Earth Engine.\n",
    "    ee.Initialize(credentials,project=PROJECT)\n",
    "    \n",
    "else:\n",
    "    print(\"Authenticating using Notebook auth...\")\n",
    "    if os.path.exists(ee.oauth.get_credentials_path()) is False:\n",
    "        ee.Authenticate()\n",
    "    else:\n",
    "        print('\\N{check mark} '\n",
    "              'Previously created authentication credentials were found.')\n",
    "    ee.Initialize()\n",
    "\n",
    "print('\\N{check mark} Successfully initialized!')"
   ]
  },
  {
   "cell_type": "markdown",
   "metadata": {
    "id": "2E2eQ4Je1GwH"
   },
   "source": [
    "## Spatial Resolution\n",
    "\n",
    "In the present context, spatial resolution means pixel size *(not sensor resolution)*.  For this case, the spatial resolution depends on the projection of the sensor's instantaneous field of view (IFOV) on the ground and how a set of radiometric measurements are resampled into a regular grid.  To see the difference in spatial resolution resulting from different sensors, visualize data at different scales from different sensors."
   ]
  },
  {
   "cell_type": "markdown",
   "metadata": {
    "id": "MDa5lLWu2EmG"
   },
   "source": [
    "### MODIS\n",
    "\n",
    "There are two Moderate Resolution Imaging Spectro-Radiometers ([MODIS](http://modis.gsfc.nasa.gov/)) aboard the [Terra](http://terra.nasa.gov/) and [Aqua](http://aqua.nasa.gov/) satellites.  Different [MODIS bands](http://modis.gsfc.nasa.gov/about/specifications.php) produce data at different spatial resolutions.  For the visible bands, the lowest common resolution is 500 meters (red and NIR are 250 meters). \n",
    "\n",
    "Here we will import the '[MYD09GA.006](https://lpdaac.usgs.gov/dataset_discovery/modis/modis_products_table/myd09ga_v006) Aqua Surface Reflectance Daily Global 1km and 500m' product.  ([Complete list of MODIS land products](https://lpdaac.usgs.gov/dataset_discovery/modis/modis_products_table)).  Note that Terra MODIS datasets start with '*MOD*' and MODIS Aqua datasets start with '*MYD*').\n",
    "\n"
   ]
  },
  {
   "cell_type": "code",
   "execution_count": null,
   "metadata": {
    "id": "TmJjft_K4bMR",
    "tags": []
   },
   "outputs": [],
   "source": [
    "# import in the MODIS Aqua surface reflectance product\n",
    "myd09 = ee.ImageCollection(\"MODIS/006/MYD09GA\")"
   ]
  },
  {
   "cell_type": "code",
   "execution_count": null,
   "metadata": {
    "id": "ZkZ-Qr5eYMq8",
    "tags": []
   },
   "outputs": [],
   "source": [
    "# define a region of interest as a point at SFO airport\n",
    "portland = ee.Geometry.Point(-122.6784, 45.5152)"
   ]
  },
  {
   "cell_type": "code",
   "execution_count": null,
   "metadata": {
    "id": "othExlnN4Y-v",
    "tags": []
   },
   "outputs": [],
   "source": [
    "# Get a surface reflectance image from the MODIS MYD09GA collection.\n",
    "date = \"2017-07-01\"\n",
    "modis_image = ee.Image(myd09.filterDate(date).first())"
   ]
  },
  {
   "cell_type": "code",
   "execution_count": null,
   "metadata": {
    "id": "jMZ201LJ5Xmt",
    "tags": []
   },
   "outputs": [],
   "source": [
    "# Use these MODIS bands for red, green, blue, respectively.\n",
    "modis_bands = [\"sur_refl_b01\", \"sur_refl_b04\", \"sur_refl_b03\"];"
   ]
  },
  {
   "cell_type": "code",
   "execution_count": null,
   "metadata": {
    "id": "_wIVcTxf5mGd",
    "tags": []
   },
   "outputs": [],
   "source": [
    "modis_vis = {\"bands\": modis_bands, \"min\": 0, \"max\": 3300, \"gamma\":1.3}"
   ]
  },
  {
   "cell_type": "code",
   "execution_count": null,
   "metadata": {
    "id": "QcDzd1hu5rwT",
    "tags": []
   },
   "outputs": [],
   "source": [
    "# Display the image\n",
    "Map = geemap.Map()\n",
    "\n",
    "Map.centerObject(portland, 15)\n",
    "\n",
    "Map.addLayer(modis_image, modis_vis, \"MODIS\")\n",
    "\n",
    "Map"
   ]
  },
  {
   "cell_type": "markdown",
   "metadata": {
    "id": "pa39buc36e8G"
   },
   "source": [
    "Note the size of pixels with respect to objects on the ground, these are 250-500m pixels so we cannot resolve fine scale features like an airport. "
   ]
  },
  {
   "cell_type": "code",
   "execution_count": null,
   "metadata": {
    "id": "8kVv-ydt6Au-",
    "tags": []
   },
   "outputs": [],
   "source": [
    "# Get the scale of the data from the first band's projection:\n",
    "modis_scale = (\n",
    "    modis_image\n",
    "    .select('sur_refl_b01')\n",
    "    .projection()\n",
    "    .nominalScale()\n",
    ").getInfo()\n",
    "\n",
    "print(f\"MODIS scale: {modis_scale} meters\")"
   ]
  },
  {
   "cell_type": "markdown",
   "metadata": {
    "id": "G_yMqCsZ7g-n"
   },
   "source": [
    "It's also worth noting that these MYD09 data are surface reflectance scaled by 10000 (not top-of-atmosphere (TOA) reflectance), meaning that clever NASA scientists have done a fancy atmospheric correction for you!\n",
    "\n",
    "If you are interested in reading more on how atmospheric correction works see [this website](https://salsa.umd.edu/6spage.html)"
   ]
  },
  {
   "cell_type": "markdown",
   "metadata": {
    "id": "oA64Qioib5BD"
   },
   "source": [
    "### MSS\n",
    "\n",
    "The Multispectral Scanner ([MSS](http://landsat.gsfc.nasa.gov/?p=3227)) sensors were flown aboard Landsats 1-5.  MSS data have a spatial resolution of 60 meters.\n"
   ]
  },
  {
   "cell_type": "code",
   "execution_count": null,
   "metadata": {
    "id": "zFh28MJ17U8B",
    "tags": []
   },
   "outputs": [],
   "source": [
    "# import the Landsat 5 MSS collection\n",
    "mss = ee.ImageCollection(\"LANDSAT/LM05/C01/T2\")"
   ]
  },
  {
   "cell_type": "code",
   "execution_count": null,
   "metadata": {
    "id": "C2LygcGkcjVf",
    "tags": []
   },
   "outputs": [],
   "source": [
    "# Get the least cloudy image over SFO airport\n",
    "mss_image = ee.Image(\n",
    "    mss\n",
    "    .filterBounds(portland)\n",
    "    .sort(\"CLOUD_COVER\") \n",
    "    .first()\n",
    ")\n"
   ]
  },
  {
   "cell_type": "code",
   "execution_count": null,
   "metadata": {
    "id": "QQoZqkjSdgxq",
    "tags": []
   },
   "outputs": [],
   "source": [
    "mss_vis = {\"bands\": [\"B3\", \"B2\", \"B1\"], \"min\": 0, \"max\": 200}"
   ]
  },
  {
   "cell_type": "code",
   "execution_count": null,
   "metadata": {
    "id": "VQVde8K8c5Vk",
    "tags": []
   },
   "outputs": [],
   "source": [
    "# Display the MSS image as a color-IR composite.\n",
    "# Display the image\n",
    "Map = geemap.Map()\n",
    "\n",
    "Map.centerObject(portland, 15)\n",
    "\n",
    "Map.addLayer(mss_image, mss_vis, \"MSS\")\n",
    "\n",
    "Map"
   ]
  },
  {
   "cell_type": "code",
   "execution_count": null,
   "metadata": {
    "id": "Iv8P4PXKc957",
    "tags": []
   },
   "outputs": [],
   "source": [
    "# Get the scale of the data from the first band's projection:\n",
    "mss_scale = (\n",
    "    mss_image\n",
    "    .select('B1')\n",
    "    .projection()\n",
    "    .nominalScale()\n",
    ").getInfo()\n",
    "\n",
    "print(f\"MSS scale: {mss_scale} meters\")"
   ]
  },
  {
   "cell_type": "markdown",
   "metadata": {
    "id": "xpC2s3yefjjn"
   },
   "source": [
    "### TM\n",
    "\n",
    "The Thematic Mapper ([TM](http://landsat.gsfc.nasa.gov/?p=3229)) was flown aboard Landsat 4-5.  (It was succeeded by the Enhanced Thematic Mapper plus ([ETM+](http://landsat.gsfc.nasa.gov/?p=3225)) aboard Landsat 7 and the Operational Land Imager ([OLI](http://landsat.gsfc.nasa.gov/?p=5447)) / Thermal Infrared Sensor ([TIRS](http://landsat.gsfc.nasa.gov/?p=5474)) sensors aboard Landsat 8.)  TM data have a spatial resolution of 30 meters.\n"
   ]
  },
  {
   "cell_type": "code",
   "execution_count": null,
   "metadata": {
    "id": "0d47IB8hffLD",
    "tags": []
   },
   "outputs": [],
   "source": [
    "# load the Landsat 5 TM TOA collection\n",
    "tm = ee.ImageCollection(\"LANDSAT/LT05/C01/T1_TOA\")"
   ]
  },
  {
   "cell_type": "code",
   "execution_count": null,
   "metadata": {
    "id": "N_5cSPjBgeGc",
    "tags": []
   },
   "outputs": [],
   "source": [
    "# Get the least cloudy image over SFO airport\n",
    "tm_image = ee.Image(\n",
    "    tm\n",
    "    .filterBounds(portland)\n",
    "    .sort(\"CLOUD_COVER\") \n",
    "    .first()\n",
    ")"
   ]
  },
  {
   "cell_type": "code",
   "execution_count": null,
   "metadata": {
    "id": "yEABssA_g7Wd",
    "tags": []
   },
   "outputs": [],
   "source": [
    "tm_vis = {\"bands\": [\"B4\", \"B3\", \"B2\"], \"min\": 0, \"max\": 0.4}"
   ]
  },
  {
   "cell_type": "code",
   "execution_count": null,
   "metadata": {
    "id": "iBjos0Q8hDON",
    "tags": []
   },
   "outputs": [],
   "source": [
    "# Display the TM image as a color-IR composite.\n",
    "Map = geemap.Map()\n",
    "\n",
    "Map.centerObject(portland, 15)\n",
    "\n",
    "Map.addLayer(tm_image, tm_vis, \"TM\")\n",
    "\n",
    "Map"
   ]
  },
  {
   "cell_type": "markdown",
   "metadata": {
    "id": "JF2XmdUUhSbe"
   },
   "source": [
    "For some information about why the TM data is not the same date as the MSS data, see [this page](https://www.usgs.gov/landsat-missions/landsat-5)."
   ]
  },
  {
   "cell_type": "code",
   "execution_count": null,
   "metadata": {
    "id": "pDVZaMBwhLhq",
    "tags": []
   },
   "outputs": [],
   "source": [
    "# Get the scale of the data from the first band's projection:\n",
    "tm_scale = (\n",
    "    tm_image\n",
    "    .select('B1')\n",
    "    .projection()\n",
    "    .nominalScale()\n",
    ").getInfo()\n",
    "\n",
    "print(f\"TM scale: {tm_scale} meters\")"
   ]
  },
  {
   "cell_type": "markdown",
   "metadata": {
    "id": "UEBSFJoU8ELy"
   },
   "source": [
    "### NAIP\n",
    "\n",
    "The National Agriculture Imagery Program ([NAIP](http://www.fsa.usda.gov/programs-and-services/aerial-photography/imagery-programs/naip-imagery/)) is an effort to acquire imagery over the continental US on a 3-year rotation using airborne sensors.  The imagery have a spatial resolution of 1-2 meters.  "
   ]
  },
  {
   "cell_type": "code",
   "execution_count": null,
   "metadata": {
    "id": "JMawH05w8C9B",
    "tags": []
   },
   "outputs": [],
   "source": [
    "# load in the NAIP imagery collection\n",
    "naip = ee.ImageCollection(\"USDA/NAIP/DOQQ\")"
   ]
  },
  {
   "cell_type": "code",
   "execution_count": null,
   "metadata": {
    "id": "Lsd5dVI88RqD",
    "tags": []
   },
   "outputs": [],
   "source": [
    "# Get NAIP images for the study period and region of interest.\n",
    "naip_images = (\n",
    "    naip\n",
    "    .filterDate('2012-01-01', '2012-12-31')\n",
    "    .filterBounds(portland)\n",
    ")"
   ]
  },
  {
   "cell_type": "code",
   "execution_count": null,
   "metadata": {
    "id": "fVG7OdQJ8cZn",
    "tags": []
   },
   "outputs": [],
   "source": [
    "# Mosaic adjacent images into a single image.\n",
    "naip_mosaic = naip_images.mosaic()"
   ]
  },
  {
   "cell_type": "code",
   "execution_count": null,
   "metadata": {
    "id": "AI5vX-3p8tFK",
    "tags": []
   },
   "outputs": [],
   "source": [
    "naip_vis = {\"bands\": [\"N\", \"R\", \"G\"]}"
   ]
  },
  {
   "cell_type": "code",
   "execution_count": null,
   "metadata": {
    "id": "dusec-V58pSW",
    "tags": []
   },
   "outputs": [],
   "source": [
    "# Display the NAIP as a color-IR composite.\n",
    "Map = geemap.Map()\n",
    "\n",
    "Map.centerObject(portland, 15)\n",
    "\n",
    "Map.addLayer(naip_mosaic, naip_vis, \"NAIP\")\n",
    "\n",
    "Map"
   ]
  },
  {
   "cell_type": "code",
   "execution_count": null,
   "metadata": {
    "id": "qKhidQ5C82YB",
    "tags": []
   },
   "outputs": [],
   "source": [
    "# Get the scale of the data from the first band's projection:\n",
    "naip_scale = (\n",
    "    naip_images\n",
    "    .first()\n",
    "    .projection()\n",
    "    .nominalScale()\n",
    ").getInfo()\n",
    "\n",
    "print(f\"NAIP scale: {naip_scale} meters\")"
   ]
  },
  {
   "cell_type": "markdown",
   "metadata": {
    "id": "eUw9AjAu9TFG"
   },
   "source": [
    "## Spectral resolution\n",
    "\n",
    "Spectral resolution refers to the number and width of spectral bands in which the sensor takes measurements.  A sensor that measures radiance in multiple bands is called a multi-spectral sensor, while a sensor with many bands (possibly hundreds) is called a hyper-spectral sensor (these are not hard and fast definitions).  For example, compare the [multi-spectral OLI](http://landsat.gsfc.nasa.gov/?p=5779) aboard Landsat 8 to [Hyperion](https://www.usgs.gov/centers/eros/eo-1-sensors), a hyperspectral sensor aboard the [EO-1 satellite](https://eo1.usgs.gov/).\n",
    "\n",
    "There is an easy way to check the number of bands in Earth Engine, but no way to get an understanding of the band width or relative spectral response of the bands, where spectral response is a function measured in the laboratory to characterize the detector.  \n"
   ]
  },
  {
   "cell_type": "code",
   "execution_count": null,
   "metadata": {
    "id": "YRK7v7vh9Gjn",
    "tags": []
   },
   "outputs": [],
   "source": [
    "# Get the MODIS band names as a List\n",
    "modis_bands = modis_image.bandNames()"
   ]
  },
  {
   "cell_type": "code",
   "execution_count": null,
   "metadata": {
    "id": "aqfAtrz__NZC",
    "tags": []
   },
   "outputs": [],
   "source": [
    "# Print the list of band names.\n",
    "bandlist = ',\\n'.join(modis_bands.getInfo()) # some string formatting\n",
    "print(f\"MODIS bands: [{bandlist}]\")\n"
   ]
  },
  {
   "cell_type": "code",
   "execution_count": null,
   "metadata": {
    "id": "YT1vgpX6_Wem",
    "tags": []
   },
   "outputs": [],
   "source": [
    "# Print the length of the list.\n",
    "n_bands = modis_bands.length()\n",
    "print(f'Length of the bands list: {n_bands.getInfo()}')"
   ]
  },
  {
   "cell_type": "markdown",
   "metadata": {
    "id": "B_upsHaQAExl"
   },
   "source": [
    "It's worth noting that only some of those bands contain radiometric data.  Lots of them have other information, like quality control data.  So the band listing isn't necessarily an indicator of spectral resolution, but can inform your investigation of the spectral resolution of the dataset.  Try printing the bands from some of the other sensors to get a sense of spectral resolution."
   ]
  },
  {
   "cell_type": "markdown",
   "metadata": {
    "id": "jbUls1MdDDH8"
   },
   "source": [
    "## Temporal resolution\n",
    "\n",
    "In this context, we will be discussing temporal resolution as the *revisit time*, or temporal cadence of the image data.  Think of this as the frequency of pixels in a time series at a given location.  \n"
   ]
  },
  {
   "cell_type": "markdown",
   "metadata": {
    "id": "ihS12LFsDi1z"
   },
   "source": [
    "### MODIS\n",
    "\n",
    "MODIS (either Terra or Aqua) produces imagery at approximately daily cadence.  To see the time series of images at a location, you can print() the ImageCollection, filtered to your area and date range of interest.  For example, to see the MODIS images in 2011:"
   ]
  },
  {
   "cell_type": "code",
   "execution_count": null,
   "metadata": {
    "id": "Q96GFY1z_2g8",
    "tags": []
   },
   "outputs": [],
   "source": [
    "# Filter the MODIS mosaics to one year.\n",
    "modis_series = myd09.filterDate(\"2011-01-01\", \"2012-01-01\")"
   ]
  },
  {
   "cell_type": "code",
   "execution_count": null,
   "metadata": {
    "id": "2gte9sbIHJAP",
    "tags": []
   },
   "outputs": [],
   "source": [
    "# get the number of images in the filtered collection\n",
    "n_images = modis_series.size()\n",
    "\n",
    "print(f\"Number of MODIS images: {n_images.getInfo()}\")"
   ]
  },
  {
   "cell_type": "code",
   "execution_count": null,
   "metadata": {
    "id": "ULCMwAOeHjDL",
    "tags": []
   },
   "outputs": [],
   "source": [
    "# reduce the collection to a single image of valid observations (i.e. not masked)\n",
    "valid_obs_image = modis_series.reduce(ee.Reducer.count())\n",
    "\n",
    "# get the number of valid observations over SFO airport for 2011\n",
    "valid_obs = valid_obs_image.reduceRegion(ee.Reducer.first(), portland, 500)\n",
    "\n",
    "JSON(valid_obs.getInfo())"
   ]
  },
  {
   "cell_type": "markdown",
   "metadata": {
    "id": "i9EHvlfiJpi2"
   },
   "source": [
    "### Landsat\n",
    "\n",
    "Landsats (5 and later) produce imagery at 16-day cadence.  TM and MSS are on the same satellite (Landsat 5), so it suffices to print the TM series to see the temporal resolution.  Unlike MODIS, data from these sensors is produced on a scene basis, so to see a time series, it's necessary to filter by location in addition to time:\n"
   ]
  },
  {
   "cell_type": "code",
   "execution_count": null,
   "metadata": {
    "id": "vf5ihenHHKvd",
    "tags": []
   },
   "outputs": [],
   "source": [
    "# Filter the TM collection to one year over SFO airport.\n",
    "tm_series = (\n",
    "    ee.ImageCollection(\"LANDSAT/LC08/C01/T1_TOA\")\n",
    "    .filterDate(\"2018-01-01\", \"2019-01-01\")\n",
    "    .filterBounds(portland)\n",
    ")"
   ]
  },
  {
   "cell_type": "code",
   "execution_count": null,
   "metadata": {
    "id": "LWFzaRFtJ2t9",
    "tags": []
   },
   "outputs": [],
   "source": [
    "# get the number of images in the filtered collection\n",
    "n_images = tm_series.size()\n",
    "\n",
    "print(f\"Number of TM Scenes: {n_images.getInfo()}\")"
   ]
  },
  {
   "cell_type": "markdown",
   "metadata": {
    "id": "qlP6ouclKU-_"
   },
   "source": [
    "To make this into a nicer list of dates, we will `map()` a function over the ImageCollection.  First define a function to get a Date from the metadata of each image, using the system properties:\n"
   ]
  },
  {
   "cell_type": "markdown",
   "metadata": {
    "id": "IIVnnkAsK3sj"
   },
   "source": [
    "Turn the ImageCollection into a List and `map()` the function over it:\n"
   ]
  },
  {
   "cell_type": "code",
   "execution_count": null,
   "metadata": {
    "id": "rLGJv40XKN8I",
    "tags": []
   },
   "outputs": [],
   "source": [
    "def get_date(image):\n",
    "    # Note that you need to cast the argument\n",
    "    # get the time of aquisition\n",
    "    # this is an ee.Date object\n",
    "    time = ee.Image(image).date();\n",
    "\n",
    "    # Return the formatted time \n",
    "    return time.format(\"YYYY-MM-dd HH:mm:ss\")\n"
   ]
  },
  {
   "cell_type": "code",
   "execution_count": null,
   "metadata": {
    "id": "qvPgLSu-Kx2Q",
    "tags": []
   },
   "outputs": [],
   "source": [
    "# get a list of Landsat acquisition dates\n",
    "dates = (\n",
    "    tm_series\n",
    "    .toList(n_images) # convert to list\n",
    "    .map(get_date) # apply the `get_date` function to each element\n",
    ")"
   ]
  },
  {
   "cell_type": "code",
   "execution_count": null,
   "metadata": {
    "id": "ijVoyf8AK8Zx",
    "tags": []
   },
   "outputs": [],
   "source": [
    "datelist = ',\\n'.join(dates.getInfo()) # some string formatting\n",
    "\n",
    "print(f\"TM acquisition dates over SFO airport: {datelist}\")"
   ]
  },
  {
   "cell_type": "markdown",
   "metadata": {
    "id": "RHZFrcEcLTxP"
   },
   "source": [
    "## Radiometric resolution\n",
    "\n",
    "Radiometric resolution is determined from the minimum radiance to which the detector is sensitive (Lmin), the maximum radiance at which the sensor saturates (Lmax), and the number of bits used to store the DNs (Q): \n",
    "\n",
    "$Radiometric Resolution = (Lmax - Lmin)/2^Q$\n",
    "\n",
    "It might be possible to dig around in the metadata to find values for Lmin and Lmax, but computing radiometric resolution is generally not necessary unless you're studying phenomena that are distinguished by very subtle changes in radiance.\n"
   ]
  },
  {
   "cell_type": "markdown",
   "metadata": {
    "id": "GCPpgcF7N8Er"
   },
   "source": [
    "## Orbits and sensor motion\n",
    "\n",
    "The image data are collected from moving platforms (satellites or aircraft).  The motion of the platform, together with the imaging geometry of the sensor determines the spatio-temporal resolution of the data.  To get an idea for how these design choices interact to produce the wonderful imagery in Earth Engine, examine the orbit of the Aqua satellite for a selected day in 2013.\n"
   ]
  },
  {
   "cell_type": "code",
   "execution_count": null,
   "metadata": {
    "id": "RumZjF5HOfDl",
    "tags": []
   },
   "outputs": [],
   "source": [
    "aqua_image = myd09.filterDate('2013-09-01').first()\n"
   ]
  },
  {
   "cell_type": "code",
   "execution_count": null,
   "metadata": {
    "id": "q8KQ08KrPYQh",
    "tags": []
   },
   "outputs": [],
   "source": [
    "sensor_vis = {\"bands\": 'SensorZenith', \"min\": 0, \"max\": 70*100}\n",
    "solar_vis = {\"bands\": 'SolarZenith', \"min\": 0, \"max\": 70*100}"
   ]
  },
  {
   "cell_type": "code",
   "execution_count": null,
   "metadata": {
    "id": "ph5rIU6E5_eH",
    "tags": []
   },
   "outputs": [],
   "source": [
    "aqua_nadir = aqua_image.updateMask(aqua_image.select(\"SensorZenith\").lt(45*100))"
   ]
  },
  {
   "cell_type": "code",
   "execution_count": null,
   "metadata": {
    "id": "cVZlvbunOieU",
    "tags": []
   },
   "outputs": [],
   "source": [
    "# Display the Aqua viewing geometry\n",
    "Map = geemap.Map(center=(0,81.04), zoom=3)\n",
    "\n",
    "Map.addLayer(aqua_nadir, sensor_vis, \"Aqua sensor-zenith angle\")\n",
    "Map.addLayer(aqua_image, solar_vis, \"Aqua acquisition solar-zenith angle\",False)\n",
    "\n",
    "Map"
   ]
  },
  {
   "cell_type": "code",
   "execution_count": null,
   "metadata": {
    "id": "HOyRHW7CPidg",
    "tags": []
   },
   "outputs": [],
   "source": [
    "# Load Landsat ETM+ data directly, filter to one day.\n",
    "landsat7 = (\n",
    "    ee.ImageCollection('LANDSAT/LE7')\n",
    "    .filterDate('2013-09-01', '2013-09-02')\n",
    ")\n"
   ]
  },
  {
   "cell_type": "code",
   "execution_count": null,
   "metadata": {
    "id": "AXeXlj_ae1sp",
    "tags": []
   },
   "outputs": [],
   "source": [
    "# Display the Aqua viewing geometry\n",
    "Map = geemap.Map(center=(0,81.04), zoom=3)\n",
    "\n",
    "Map.addLayer(aqua_image, sensor_vis, \"Aqua sensor-zenith angle\")\n",
    "Map.addLayer(landsat7, {\"bands\": 'B1', \"palette\": 'blue'}, 'Landsat 7 scenes')\n",
    "\n",
    "Map\n"
   ]
  }
 ],
 "metadata": {
  "colab": {
   "collapsed_sections": [],
   "name": "02 - Characteristics of remotely sensed data",
   "private_outputs": true,
   "provenance": []
  },
  "environment": {
   "kernel": "python3",
   "name": "common-cpu.m93",
   "type": "gcloud",
   "uri": "gcr.io/deeplearning-platform-release/base-cpu:m93"
  },
  "kernelspec": {
   "display_name": "Python 3 (ipykernel)",
   "language": "python",
   "name": "python3"
  },
  "language_info": {
   "codemirror_mode": {
    "name": "ipython",
    "version": 3
   },
   "file_extension": ".py",
   "mimetype": "text/x-python",
   "name": "python",
   "nbconvert_exporter": "python",
   "pygments_lexer": "ipython3",
   "version": "3.11.4"
  }
 },
 "nbformat": 4,
 "nbformat_minor": 4
}
